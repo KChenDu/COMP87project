{
 "cells": [
  {
   "cell_type": "code",
   "execution_count": 1,
   "id": "initial_id",
   "metadata": {
    "collapsed": true,
    "ExecuteTime": {
     "end_time": "2024-01-30T22:30:22.748543900Z",
     "start_time": "2024-01-30T22:30:20.843838Z"
    }
   },
   "outputs": [
    {
     "name": "stderr",
     "output_type": "stream",
     "text": [
      "/home/kelve/anaconda3/envs/COMP87project/lib/python3.11/site-packages/pydantic/_internal/_fields.py:149: UserWarning: Field \"model_name\" has conflict with protected namespace \"model_\".\n",
      "\n",
      "You may be able to resolve this warning by setting `model_config['protected_namespaces'] = ()`.\n",
      "  warnings.warn(\n"
     ]
    }
   ],
   "source": [
    "from utility import create_milvus_collection, drop_milvus_collection\n",
    "from vector_db import MilvusCollection\n",
    "from json import load\n",
    "from towhee import AutoPipes, AutoConfig\n",
    "from setting import METRIC_TYPE\n",
    "\n",
    "\n",
    "create_milvus_collection()\n",
    "\n",
    "collection = MilvusCollection()\n",
    "collection.create_partition(\"test\")\n",
    "\n",
    "with open('../data/context_keyword_pair.json', 'r') as f:\n",
    "    data = load(f)\n",
    "\n",
    "for datum in data:\n",
    "    datum['keywords'] = [keyword.strip() for keyword in datum['keywords'].split(',')] # will be removed later"
   ]
  },
  {
   "cell_type": "code",
   "outputs": [],
   "source": [
    "id2context = [None] * len(data)\n",
    "keyword2context = {}\n",
    "\n",
    "for i, datum in enumerate(data):\n",
    "    for keyword in datum['keywords']:\n",
    "        if keyword in keyword2context:\n",
    "            keyword2context[keyword].append(i)\n",
    "        else:\n",
    "            keyword2context[keyword] = [i]\n",
    "    id2context[i] = datum['context']\n",
    "\n",
    "config = AutoConfig.load_config('sentence_embedding')\n",
    "config.model = 'average_word_embeddings_glove.6B.300d'\n",
    "sentence_embedding = AutoPipes.pipeline('sentence_embedding', config=config)\n",
    "\n",
    "keywords = list(keyword2context.keys())\n",
    "collection.insert([keywords,\n",
    "                   [embedding.get()[0] for embedding in sentence_embedding.batch(keywords)],\n",
    "                   list(keyword2context.values())], \"test\")"
   ],
   "metadata": {
    "collapsed": false,
    "ExecuteTime": {
     "end_time": "2024-01-30T22:32:11.472457800Z",
     "start_time": "2024-01-30T22:30:22.748543900Z"
    }
   },
   "id": "3ae3f3d8807c78d2",
   "execution_count": 2
  },
  {
   "cell_type": "code",
   "outputs": [],
   "source": [
    "search_params = {\n",
    "    \"metric_type\": METRIC_TYPE\n",
    "}\n",
    "\n",
    "results = collection.search([sentence_embedding('Naruto').get()[0]], \"embedding\", search_params, 5, partition_names=[\"test\"], output_fields=[\"keyword\", \"context_ids\"])[0]"
   ],
   "metadata": {
    "collapsed": false,
    "ExecuteTime": {
     "end_time": "2024-01-30T22:37:11.477536600Z",
     "start_time": "2024-01-30T22:37:06.898357600Z"
    }
   },
   "id": "77eb51c1649225da",
   "execution_count": 18
  },
  {
   "cell_type": "code",
   "outputs": [
    {
     "name": "stdout",
     "output_type": "stream",
     "text": [
      "distance:  0.9999998807907104\n",
      "found keyword:  Naruto\n",
      "==================================================================\n",
      "corresponding context:  1 .  The first season of the \"Naruto\" anime series is directed by Hayato Date, and produced by Studio Pierrot and TV Tokyo. Based on Masashi Kishimoto's manga series, the season follows Naruto Uzumaki living in the Hidden Leaf Village, determined to become the next Hokage and gain the respect of the villagers. The first season ran from October 3, 2002 to November 5, 2003 on TV Tokyo. It was also released with the English version from September 2005 to November 2006 on Cartoon Network's Toonami and YTV's Bionix programming blocks. \n",
      "\n",
      "\n",
      "distance:  0.4659806489944458\n",
      "found keyword:  Hokusai Manga\n",
      "==================================================================\n",
      "corresponding context:  1 .  The word first came into common usage in the late 18th century with the publication of such works as Santō Kyōden's picturebook \"Shiji no yukikai\" (1798), and in the early 19th century with such works as Aikawa Minwa's \"Manga hyakujo\" (1814) and the celebrated \"Hokusai Manga\" books (1814–1834) containing assorted drawings from the sketchbooks of the famous ukiyo-e artist Hokusai. Rakuten Kitazawa (1876–1955) first used the word \"manga\" in the modern sense.\n",
      "\n",
      "\n",
      "distance:  0.41327181458473206\n",
      "found keyword:  Hentai\n",
      "==================================================================\n",
      "corresponding context:  1 .  In the word \"hentai\",(変態) the first kanji 'hen' refers to strangeness, and the second kanji 'tai' refers to a condition or state. \"Hentai\" was introduced in the Meiji period as a term for \"change of form\" or \"transformation\" in science and psychology. In this context, it was used to refer to disorders such as hysteria or to describe paranormal phenomena like hypnosis or telepathy. Slowly, the meaning expanded until it had the meaning of \"non-standard\". In the 1910s, it was used in sexology in the compound expression \"hentai seiyoku\" (, \"abnormal sexual desire\") and became popular within the theory of sexual deviance (\"Hentai seiyoku ron\"), published by Eiji Habuto and Jun'ichirō Sawada in 1915. In the 1920s, many publications dealt with deviant sexual desires and the Ero Guro Nansensu movement. Matsuzawa calls it a period characterized by a \"\"hentai boom\"\". In the 1930s, censorship became more common leading to fewer books being published on this theme.\n",
      "\n",
      "\n",
      "distance:  0.38959646224975586\n",
      "found keyword:  OVA\n",
      "==================================================================\n",
      "corresponding context:  1 .  The OVA series was produced by the animation studio Pierrot with cooperation from Sega and General Entertainment, originally distributed by Taki Corporation in Japan on a rental-only basis between January 26, 1996 and March 22, 1996 before being released for retail sale on May 31, 1996. The series was licensed by ADV Films and first released the series in North America between March 29, 1996 and June 11, 1996 in two VHS volumes, each containing a single episode with English subtitles. The English-dubbed version was later released as a single direct-to-video film as Sonic the Hedgehog: The Movie on September 7, 1999, on VHS and DVD. It was later re-released on DVD on January 13, 2004. Due to ADV Films being dissolved and spun off into Section23 Films, one of its clients being Sentai Filmworks, both releases are now out of print.\n",
      "\n",
      "\n",
      "distance:  0.36636194586753845\n",
      "found keyword:  Kanzenban\n",
      "==================================================================\n",
      "corresponding context:  1 .  Written and drawn by Hiromu Arakawa, \"Fullmetal Alchemist\" was serialized in Square Enix's monthly manga magazine \"Monthly Shōnen Gangan\". Its first installment was published in the magazine's August 2001 issue on July 12, 2001; publication continued until the series concluded in June 2010 with the 108th installment. A side-story to the series was published in the October 2010 issue of \"Monthly Shōnen Gangan\" on September 11, 2010. In the July 2011 issue of the same magazine, the prototype version of the manga was published. Square Enix compiled the chapters into twenty-seven tankōbon volumes. The first volume was released on January 22, 2002, and the last on November 22, 2010. A few chapters have been re-released in Japan in two \"Extra number\" magazines and \"Fullmetal Alchemist, The First Attack\", which features the first nine chapters of the manga and other side stories. On July 22, 2011, Square Enix started republishing the series in \"kanzenban\" format.\n",
      "\n"
     ]
    }
   ],
   "source": [
    "for result in results:\n",
    "    print(\"distance: \", result.distance)\n",
    "    entity = result.entity\n",
    "    print(\"found keyword: \", entity.keyword)\n",
    "    for i, context_id in enumerate(entity.context_ids):\n",
    "        print(\"==================================================================\")\n",
    "        print(\"corresponding context: \", i + 1, \". \", id2context[context_id])\n",
    "    print('\\n')"
   ],
   "metadata": {
    "collapsed": false,
    "ExecuteTime": {
     "end_time": "2024-01-30T22:37:11.486536800Z",
     "start_time": "2024-01-30T22:37:11.482537200Z"
    }
   },
   "id": "9679e6fa31cc03f6",
   "execution_count": 19
  },
  {
   "cell_type": "code",
   "outputs": [
    {
     "ename": "KeyboardInterrupt",
     "evalue": "",
     "output_type": "error",
     "traceback": [
      "\u001B[0;31m---------------------------------------------------------------------------\u001B[0m",
      "\u001B[0;31mKeyboardInterrupt\u001B[0m                         Traceback (most recent call last)",
      "Cell \u001B[0;32mIn[5], line 1\u001B[0m\n\u001B[0;32m----> 1\u001B[0m \u001B[38;5;28;01mraise\u001B[39;00m \u001B[38;5;167;01mKeyboardInterrupt\u001B[39;00m\n\u001B[1;32m      2\u001B[0m collection\u001B[38;5;241m.\u001B[39mdrop_partition(\u001B[38;5;124m\"\u001B[39m\u001B[38;5;124mtest\u001B[39m\u001B[38;5;124m\"\u001B[39m)\n\u001B[1;32m      3\u001B[0m drop_milvus_collection()\n",
      "\u001B[0;31mKeyboardInterrupt\u001B[0m: "
     ]
    }
   ],
   "source": [
    "raise KeyboardInterrupt\n",
    "collection.drop_partition(\"test\")\n",
    "drop_milvus_collection()"
   ],
   "metadata": {
    "collapsed": false,
    "ExecuteTime": {
     "end_time": "2024-01-30T22:32:16.329827900Z",
     "start_time": "2024-01-30T22:32:16.023768200Z"
    }
   },
   "id": "4e3d354d0473e4f3",
   "execution_count": 5
  }
 ],
 "metadata": {
  "kernelspec": {
   "display_name": "Python 3",
   "language": "python",
   "name": "python3"
  },
  "language_info": {
   "codemirror_mode": {
    "name": "ipython",
    "version": 2
   },
   "file_extension": ".py",
   "mimetype": "text/x-python",
   "name": "python",
   "nbconvert_exporter": "python",
   "pygments_lexer": "ipython2",
   "version": "2.7.6"
  }
 },
 "nbformat": 4,
 "nbformat_minor": 5
}
