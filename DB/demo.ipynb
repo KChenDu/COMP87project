{
 "cells": [
  {
   "cell_type": "code",
   "execution_count": 1,
   "id": "initial_id",
   "metadata": {
    "collapsed": true,
    "ExecuteTime": {
     "end_time": "2024-01-31T13:25:11.797062Z",
     "start_time": "2024-01-31T13:22:14.906342100Z"
    }
   },
   "outputs": [
    {
     "name": "stderr",
     "output_type": "stream",
     "text": [
      "/home/kelve/anaconda3/envs/COMP87project/lib/python3.11/site-packages/pydantic/_internal/_fields.py:149: UserWarning: Field \"model_name\" has conflict with protected namespace \"model_\".\n",
      "\n",
      "You may be able to resolve this warning by setting `model_config['protected_namespaces'] = ()`.\n",
      "  warnings.warn(\n"
     ]
    }
   ],
   "source": [
    "from utility import create_milvus_collection, milvus_collection_exists, drop_milvus_collection, create_sqlite_db, sqlite_db_exists, drop_sqlite_db\n",
    "from relational_db import SQLiteDB\n",
    "from setting import TABEL2FIELD, METRIC_TYPE\n",
    "from json import load\n",
    "from vector_db import MilvusCollection\n",
    "from towhee import AutoConfig, AutoPipes\n",
    "\n",
    "\n",
    "keyword2context = {}\n",
    "\n",
    "# Create a relational db to store context and its id\n",
    "create_sqlite_db()\n",
    "db = SQLiteDB()\n",
    "\n",
    "for table, fields in TABEL2FIELD.items():\n",
    "    db.create_table(table, fields)\n",
    "\n",
    "# Read context-to-keywords json file and make keyword-to-contexts mapping\n",
    "with open('../data/context_keyword_pair.json', 'r') as f:\n",
    "    data = load(f)\n",
    "\n",
    "for i, datum in enumerate(data):\n",
    "    db.insert('context', f\"{i}, '\" + datum['context'].replace(\"'\", \"''\") + \"'\")\n",
    "    for keyword in datum['keywords']:\n",
    "        if keyword in keyword2context:\n",
    "            keyword2context[keyword].append(i)\n",
    "        else:\n",
    "            keyword2context[keyword] = [i]\n",
    "\n",
    "# Embed all keywords and insert into vector DB\n",
    "if not milvus_collection_exists():\n",
    "    create_milvus_collection()\n",
    "\n",
    "collection = MilvusCollection()\n",
    "if not collection.has_partition(\"test\"):\n",
    "    collection.create_partition(\"test\")\n",
    "\n",
    "config = AutoConfig.load_config('sentence_embedding')\n",
    "config.model = 'average_word_embeddings_glove.6B.300d'\n",
    "sentence_embedding = AutoPipes.pipeline('sentence_embedding', config=config)\n",
    "\n",
    "keywords = list(keyword2context.keys())\n",
    "collection.insert([keywords,\n",
    "                   [embedding.get()[0] for embedding in sentence_embedding.batch(keywords)],\n",
    "                   list(keyword2context.values())], \"test\")"
   ]
  },
  {
   "cell_type": "code",
   "outputs": [],
   "source": [
    "search_params = {\n",
    "    \"metric_type\": METRIC_TYPE\n",
    "}\n",
    "\n",
    "results = collection.search([sentence_embedding('Monkey D. Luffy').get()[0]], \"embedding\", search_params, 5, partition_names=[\"test\"], output_fields=[\"keyword\", \"context_ids\"])[0]"
   ],
   "metadata": {
    "collapsed": false,
    "ExecuteTime": {
     "end_time": "2024-01-31T13:25:16.266523800Z",
     "start_time": "2024-01-31T13:25:11.799062400Z"
    }
   },
   "id": "77eb51c1649225da",
   "execution_count": 2
  },
  {
   "cell_type": "code",
   "outputs": [
    {
     "name": "stdout",
     "output_type": "stream",
     "text": [
      "distance:  1.0000001192092896\n",
      "found keyword:  Monkey D. Luffy\n",
      "==================================================================\n",
      "corresponding context:  1 .  , commonly known simply as \"Dragon the Revolutionary\", is the father of the Straw Hat Pirates Captain Monkey D. Luffy and the son of the Marines hero Monkey D. Garp. He is the infamous leader and founder of the Revolutionary Army who has been attempting to overthrow the World Government. Not much is known about his activities, background, history, or power. He is the World Government's greatest enemy, and is the most dangerous and most wanted man in the world.\n",
      "==================================================================\n",
      "corresponding context:  2 .  The protagonists of the \"One Piece\" series are all the members of the , a crew of nine pirates captained by Monkey D. Luffy. The crew's number increases throughout the series, as Luffy recruits new members. Once Usopp joins the Straw Hat Pirates, they gain their own ship, the \"Going Merry\", which is later destroyed and replaced by a larger and more powerful vessel, the \"Thousand Sunny\" created by their shipwright Franky. Two years later, the Straw Hats gain a new fleet, called the Straw Hat Grand Fleet, consisting of 5,640 pirates from seven different crews; Luffy objects to the idea of being a fleet commander, and organizes his new army in a way that they may act independently, but when one crew is in trouble, the others must do what they can to help them.\n",
      "\n",
      "\n",
      "distance:  0.7795464992523193\n",
      "found keyword:  Monkey\n",
      "==================================================================\n",
      "corresponding context:  1 .  The \"World English Dictionary\" gives a nautical definition for \"monkey\", as a modifier \"denoting a small light structure or piece of equipment contrived to suit an immediate purpose: a \"monkey foresail\" ; a \"monkey bridge\".\"\n",
      "\n",
      "\n",
      "distance:  0.3980446457862854\n",
      "found keyword:  Cat\n",
      "==================================================================\n",
      "corresponding context:  1 .  The name of the cat, \"Nigger Man\", has often been cited in discussions of Lovecraft's racial attitudes. Lovecraft owned a cat by that name until 1904.\n",
      "\n",
      "\n",
      "distance:  0.3720269799232483\n",
      "found keyword:  Short-Haired Cat\n",
      "==================================================================\n",
      "corresponding context:  1 .  The Abyssinian is a breed of domestic short-haired cat with a distinctive \"ticked\" tabby coat, in which individual hairs are banded with different colors. The breed is named for Abyssinia (now called Ethiopia), where it is believed to have originated.\n",
      "\n",
      "\n",
      "distance:  0.37195858359336853\n",
      "found keyword:  Parrot\n",
      "==================================================================\n",
      "corresponding context:  1 .  The hyacinth macaw (\"Anodorhynchus hyacinthinus\"), or hyacinthine macaw, is a parrot native to central and eastern South America. With a length (from the top of its head to the tip of its long pointed tail) of about 100 cm (3.3 ft) it is longer than any other species of parrot. It is the largest macaw and the largest flying parrot species, though the flightless kakapo of New Zealand can outweigh it at up to 3.5 kg. While generally easily recognized, it could be confused with the smaller Lear's macaw. Habitat loss and the trapping of wild birds for the pet trade have taken a heavy toll on their population in the wild, so the species is classified as Vulnerable on the International Union for Conservation of Nature's Red List, and it is protected by its listing on Appendix I of the Convention on International Trade in Endangered Species of Wild Fauna and Flora (CITES).\n"
     ]
    }
   ],
   "source": [
    "for result in results:\n",
    "    print(\"distance: \", result.distance)\n",
    "    entity = result.entity\n",
    "    print(\"found keyword: \", entity.keyword)\n",
    "    for i, context_id in enumerate(entity.context_ids):\n",
    "        print(\"==================================================================\")\n",
    "        print(\"corresponding context: \", i + 1, \". \", db.select('context', 'context', f'id = {context_id}')[0][0])\n",
    "    print('\\n')"
   ],
   "metadata": {
    "collapsed": false,
    "ExecuteTime": {
     "end_time": "2024-01-31T13:25:16.279057700Z",
     "start_time": "2024-01-31T13:25:16.270542300Z"
    }
   },
   "id": "9679e6fa31cc03f6",
   "execution_count": 3
  },
  {
   "cell_type": "code",
   "outputs": [
    {
     "ename": "KeyboardInterrupt",
     "evalue": "",
     "output_type": "error",
     "traceback": [
      "\u001B[0;31m---------------------------------------------------------------------------\u001B[0m",
      "\u001B[0;31mKeyboardInterrupt\u001B[0m                         Traceback (most recent call last)",
      "Cell \u001B[0;32mIn[4], line 1\u001B[0m\n\u001B[0;32m----> 1\u001B[0m \u001B[38;5;28;01mraise\u001B[39;00m \u001B[38;5;167;01mKeyboardInterrupt\u001B[39;00m\n\u001B[1;32m      3\u001B[0m \u001B[38;5;28;01mif\u001B[39;00m sqlite_db_exists():\n\u001B[1;32m      4\u001B[0m     drop_sqlite_db()\n",
      "\u001B[0;31mKeyboardInterrupt\u001B[0m: "
     ]
    }
   ],
   "source": [
    "raise KeyboardInterrupt\n",
    "\n",
    "if sqlite_db_exists():\n",
    "    drop_sqlite_db()\n",
    "\n",
    "if collection.has_partition(\"test\"):\n",
    "    collection.drop_partition(\"test\")\n",
    "    \n",
    "if milvus_collection_exists():\n",
    "    drop_milvus_collection()"
   ],
   "metadata": {
    "collapsed": false,
    "ExecuteTime": {
     "end_time": "2024-01-31T13:25:16.486196700Z",
     "start_time": "2024-01-31T13:25:16.279057700Z"
    }
   },
   "id": "4e3d354d0473e4f3",
   "execution_count": 4
  }
 ],
 "metadata": {
  "kernelspec": {
   "display_name": "Python 3",
   "language": "python",
   "name": "python3"
  },
  "language_info": {
   "codemirror_mode": {
    "name": "ipython",
    "version": 2
   },
   "file_extension": ".py",
   "mimetype": "text/x-python",
   "name": "python",
   "nbconvert_exporter": "python",
   "pygments_lexer": "ipython2",
   "version": "2.7.6"
  }
 },
 "nbformat": 4,
 "nbformat_minor": 5
}
