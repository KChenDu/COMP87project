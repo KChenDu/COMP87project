{
 "cells": [
  {
   "cell_type": "code",
   "execution_count": 5,
   "id": "initial_id",
   "metadata": {
    "collapsed": true,
    "ExecuteTime": {
     "end_time": "2024-01-25T20:03:52.568614Z",
     "start_time": "2024-01-25T20:03:52.359761500Z"
    }
   },
   "outputs": [],
   "source": [
    "from utility import create_milvus_collection, drop_milvus_collection\n",
    "from vector_db import MilvusCollection\n",
    "\n",
    "\n",
    "create_milvus_collection()\n",
    "\n",
    "collection = MilvusCollection()\n",
    "collection.create_partition(\"default\")"
   ]
  },
  {
   "cell_type": "code",
   "outputs": [],
   "source": [
    "data = [\n",
    "    [101, 102, 103, 104, 105],\n",
    "    [[1.1, 1.2], [2.1, 2.2], [3.1, 3.2],[4.1, 4.2], [5.1, 5.2]]\n",
    "]\n",
    "\n",
    "collection.insert(data, \"temp\")"
   ],
   "metadata": {
    "collapsed": false,
    "ExecuteTime": {
     "end_time": "2024-01-25T20:03:56.593916500Z",
     "start_time": "2024-01-25T20:03:56.382741300Z"
    }
   },
   "id": "5a882d4fe5895f33",
   "execution_count": 6
  },
  {
   "cell_type": "code",
   "outputs": [
    {
     "data": {
      "text/plain": "[\"['id: 101, distance: 2.0, entity: {}', 'id: 102, distance: 7.999999523162842, entity: {}']\"]"
     },
     "execution_count": 7,
     "metadata": {},
     "output_type": "execute_result"
    }
   ],
   "source": [
    "search_params = {\n",
    "    \"metric_type\": \"L2\", \n",
    "    \"offset\": 0, \n",
    "    \"ignore_growing\": False, \n",
    "    \"params\": {\"nprobe\": 10}\n",
    "}\n",
    "\n",
    "results = collection.search([[0.1, 0.2]], \"word_vector\", search_params, 2, partition_names=[\"temp\"])\n",
    "results"
   ],
   "metadata": {
    "collapsed": false,
    "ExecuteTime": {
     "end_time": "2024-01-25T20:04:46.798318Z",
     "start_time": "2024-01-25T20:04:43.535226800Z"
    }
   },
   "id": "4fe0b95761dcae5e",
   "execution_count": 7
  },
  {
   "cell_type": "code",
   "outputs": [],
   "source": [
    "collection.drop_partition(\"temp\")\n",
    "drop_milvus_collection()"
   ],
   "metadata": {
    "collapsed": false,
    "ExecuteTime": {
     "end_time": "2024-01-25T20:07:42.385794700Z",
     "start_time": "2024-01-25T20:07:41.967751100Z"
    }
   },
   "id": "b4b145a684426c7a",
   "execution_count": 8
  }
 ],
 "metadata": {
  "kernelspec": {
   "display_name": "Python 3",
   "language": "python",
   "name": "python3"
  },
  "language_info": {
   "codemirror_mode": {
    "name": "ipython",
    "version": 2
   },
   "file_extension": ".py",
   "mimetype": "text/x-python",
   "name": "python",
   "nbconvert_exporter": "python",
   "pygments_lexer": "ipython2",
   "version": "2.7.6"
  }
 },
 "nbformat": 4,
 "nbformat_minor": 5
}
