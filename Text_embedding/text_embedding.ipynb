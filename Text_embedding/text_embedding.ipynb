{
 "cells": [
  {
   "cell_type": "code",
   "execution_count": 1,
   "metadata": {},
   "outputs": [
    {
     "name": "stderr",
     "output_type": "stream",
     "text": [
      "/Library/Frameworks/Python.framework/Versions/3.11/lib/python3.11/site-packages/pydantic/_internal/_fields.py:149: UserWarning: Field \"model_name\" has conflict with protected namespace \"model_\".\n",
      "\n",
      "You may be able to resolve this warning by setting `model_config['protected_namespaces'] = ()`.\n",
      "  warnings.warn(\n"
     ]
    }
   ],
   "source": [
    "from utility import create_milvus_collection, milvus_collection_exists, drop_milvus_collection, create_sqlite_db, sqlite_db_exists, drop_sqlite_db\n",
    "from relational_db import SQLiteDB\n",
    "from setting import TABEL2FIELD, METRIC_TYPE\n",
    "from json import load\n",
    "from vector_db import MilvusCollection\n",
    "import os\n",
    "from pymilvus import connections\n",
    "from towhee import AutoConfig, AutoPipes\n",
    "import numpy as np\n",
    "from FlagEmbedding import BGEM3FlagModel\n",
    "from sklearn.metrics.pairwise import cosine_similarity\n",
    "\n",
    "from transformers import AutoTokenizer, AutoModelForTokenClassification\n",
    "from transformers import pipeline\n",
    "from preprocess import KeyWords_generator, read_json, segment_text, preprocess\n"
   ]
  },
  {
   "cell_type": "code",
   "execution_count": 2,
   "metadata": {},
   "outputs": [
    {
     "ename": "Exception",
     "evalue": "Database test already exists.",
     "output_type": "error",
     "traceback": [
      "\u001b[0;31m---------------------------------------------------------------------------\u001b[0m",
      "\u001b[0;31mException\u001b[0m                                 Traceback (most recent call last)",
      "\u001b[1;32m/Users/ruzexi/inf301/mv/DB/demo_txtebd.ipynb 单元格 2\u001b[0m line \u001b[0;36m4\n\u001b[1;32m      <a href='vscode-notebook-cell:/Users/ruzexi/inf301/mv/DB/demo_txtebd.ipynb#W1sZmlsZQ%3D%3D?line=0'>1</a>\u001b[0m keyword2context \u001b[39m=\u001b[39m {}\n\u001b[1;32m      <a href='vscode-notebook-cell:/Users/ruzexi/inf301/mv/DB/demo_txtebd.ipynb#W1sZmlsZQ%3D%3D?line=2'>3</a>\u001b[0m \u001b[39m# Create a relational db to store context and its id\u001b[39;00m\n\u001b[0;32m----> <a href='vscode-notebook-cell:/Users/ruzexi/inf301/mv/DB/demo_txtebd.ipynb#W1sZmlsZQ%3D%3D?line=3'>4</a>\u001b[0m create_sqlite_db()\n\u001b[1;32m      <a href='vscode-notebook-cell:/Users/ruzexi/inf301/mv/DB/demo_txtebd.ipynb#W1sZmlsZQ%3D%3D?line=4'>5</a>\u001b[0m db \u001b[39m=\u001b[39m SQLiteDB()\n\u001b[1;32m      <a href='vscode-notebook-cell:/Users/ruzexi/inf301/mv/DB/demo_txtebd.ipynb#W1sZmlsZQ%3D%3D?line=6'>7</a>\u001b[0m \u001b[39mfor\u001b[39;00m table, fields \u001b[39min\u001b[39;00m TABEL2FIELD\u001b[39m.\u001b[39mitems():\n",
      "File \u001b[0;32m~/inf301/mv/DB/utility.py:39\u001b[0m, in \u001b[0;36mcreate_sqlite_db\u001b[0;34m(name)\u001b[0m\n\u001b[1;32m     37\u001b[0m db_file \u001b[39m=\u001b[39m Path(\u001b[39m\"\u001b[39m\u001b[39msqlite/\u001b[39m\u001b[39m\"\u001b[39m \u001b[39m+\u001b[39m name \u001b[39m+\u001b[39m \u001b[39m\"\u001b[39m\u001b[39m.db\u001b[39m\u001b[39m\"\u001b[39m)\n\u001b[1;32m     38\u001b[0m \u001b[39mif\u001b[39;00m db_file\u001b[39m.\u001b[39mis_file():\n\u001b[0;32m---> 39\u001b[0m     \u001b[39mraise\u001b[39;00m \u001b[39mException\u001b[39;00m(\u001b[39m\"\u001b[39m\u001b[39mDatabase \u001b[39m\u001b[39m\"\u001b[39m \u001b[39m+\u001b[39m name \u001b[39m+\u001b[39m \u001b[39m\"\u001b[39m\u001b[39m already exists.\u001b[39m\u001b[39m\"\u001b[39m)\n\u001b[1;32m     40\u001b[0m \u001b[39mtry\u001b[39;00m:\n\u001b[1;32m     41\u001b[0m     conn \u001b[39m=\u001b[39m sqlite3\u001b[39m.\u001b[39mconnect(db_file)\n",
      "\u001b[0;31mException\u001b[0m: Database test already exists."
     ]
    }
   ],
   "source": [
    "keyword2context = {}\n",
    "\n",
    "# Create a relational db to store context and its id\n",
    "create_sqlite_db()\n",
    "db = SQLiteDB()\n",
    "\n",
    "for table, fields in TABEL2FIELD.items():\n",
    "    db.create_table(table, fields)\n",
    "\n",
    "# Read context-to-keywords json file and make keyword-to-contexts mapping\n",
    "with open('./data/Keywords.json', 'r') as f:\n",
    "    data = load(f)\n",
    "\n",
    "for i, datum in enumerate(data):\n",
    "    db.insert('context', f\"{i}, '\" + datum['context'].replace(\"'\", \"''\") + \"'\")\n",
    "    for keyword in datum['keywords']:\n",
    "        if keyword in keyword2context:\n",
    "            keyword2context[keyword].append(i)\n",
    "        else:\n",
    "            keyword2context[keyword] = [i]\n",
    "\n",
    "# Embed all keywords and insert into vector DB\n",
    "if not milvus_collection_exists():\n",
    "    create_milvus_collection()\n",
    "\n",
    "collection = MilvusCollection()\n",
    "if not collection.has_partition(\"test\"):\n",
    "    collection.create_partition(\"test\")\n",
    "\n",
    "config = AutoConfig.load_config('sentence_embedding')\n",
    "config.model = 'average_word_embeddings_glove.6B.300d'\n",
    "sentence_embedding = AutoPipes.pipeline('sentence_embedding', config=config)\n",
    "\n",
    "keywords = list(keyword2context.keys())\n",
    "collection.insert([keywords,\n",
    "                   [embedding.get()[0] for embedding in sentence_embedding.batch(keywords)],\n",
    "                   list(keyword2context.values())], \"test\")"
   ]
  },
  {
   "cell_type": "code",
   "execution_count": 30,
   "metadata": {},
   "outputs": [],
   "source": [
    "collection = MilvusCollection()"
   ]
  },
  {
   "cell_type": "code",
   "execution_count": 7,
   "metadata": {},
   "outputs": [
    {
     "name": "stdout",
     "output_type": "stream",
     "text": [
      "[\"id: World War One, distance: 1.0000001192092896, entity: {'keyword': 'World War One', 'context_ids': [12657]}\", \"id: First World War, distance: 1.0000001192092896, entity: {'keyword': 'First World War', 'context_ids': [920, 1529, 2223, 6244, 6253, 6682, 7342, 7574, 7597, 7659, 8546, 8608, 8837, 9402, 9538, 10344, 11111, 11506]}\", \"id: World War I, distance: 1.0000001192092896, entity: {'keyword': 'World War I', 'context_ids': [207, 571, 752, 1038, 1043, 1278, 1344, 2407, 2453, 2462, 2571, 2994, 3648, 3795, 4256, 4737, 4840, 4923, 5047, 5140, 5288, 5290, 5819, 6395, 6758, 6798, 6995, 7127, 7173, 7176, 7224, 7230, 7258, 7272, 7398, 7479, 7969, 8001, 8018, 8057, 8072, 8205, 8358, 8463, 8497, 8500, 8546, 8678, 8850, 9471, 9766, 9799, 9975, 10112, 10167, 10259, 10291, 10510, 10639, 10809, 10812, 10827, 11001, 11125, 11142, 11224, 11239, 11316, 11521, 11547, 11620, 11676, 11873, 11894, 11995, 12119, 12120, 12132, 12169, 12233, 12554, 13768, 13834, 14315]}\", \"id: World War, distance: 1.0000001192092896, entity: {'keyword': 'World War', 'context_ids': [5, 2978, 3083, 3528, 3878, 4906, 4941, 5989, 7082, 7083, 7402, 7492, 7850, 7930, 8420, 8489, 11187, 13158]}\", \"id: World War Two, distance: 1.0000001192092896, entity: {'keyword': 'World War Two', 'context_ids': [2171, 2382]}\", \"id: Second World War, distance: 0.9479931592941284, entity: {'keyword': 'Second World War', 'context_ids': [231, 920, 1336, 2223, 2953, 3621, 3786, 3873, 3982, 4554, 4831, 5009, 5847, 6104, 6713, 6748, 6792, 7107, 7311, 7313, 7466, 8221, 9047, 9100, 9174, 10307, 10372, 10420, 10439, 10441, 10543, 10750, 12324, 12915]}\", \"id: World War II, distance: 0.9389195442199707, entity: {'keyword': 'World War II', 'context_ids': [166, 423, 1038, 1115, 1336, 1371, 1401, 1659, 1725, 1835, 1874, 2145, 2379, 2447, 2528, 2588, 2675, 2677, 2699, 2740, 2800, 2810, 2816, 2839, 2862, 2912, 2942, 2994, 3024, 3037, 3083, 3087, 3090, 3117, 3227, 3239, 3367, 3381, 3456, 3480, 3489, 3520, 3528, 3556, 3648, 3669, 3730, 3795, 3862, 3895, 3896, 3934, 3938, 3991, 4265, 4294, 4476, 4535, 4548, 4552, 4823, 4844, 4918, 4989, 5281, 5303, 5315, 5323, 5353, 5381, 5390, 5409, 5455, 5580, 5674, 5681, 5742, 5805, 5808, 5811, 5834, 5968, 5989, 6171, 6173, 6178, 6181, 6257, 6291, 6673, 6677, 6692, 6695, 6697, 6705, 6710, 6720, 6722, 6732, 6747, 6748, 6758, 6769, 6791, 6792, 6825, 6830, 6872, 6917, 6919, 6940, 6956, 6967, 6974, 7025, 7033, 7039, 7046, 7074, 7107, 7116, 7130, 7191, 7212, 7251, 7268, 7278, 7338, 7355, 7395, 7430, 7443, 7459, 7492, 7521, 7547, 7559, 7665, 7740, 7764, 7856, 7930, 7960, 7969, 7983, 7997, 8094, 8197, 8307, 8420, 8452, 8453, 8529, 8624, 8632, 8665, 8689, 8709, 8744, 8879, 8896, 8901, 8930, 8959, 8974, 8989, 9025, 9129, 9130, 9142, 9144, 9150, 9215, 9270, 9379, 9446, 9502, 9535, 9581, 9798, 9900, 9975, 10072, 10107, 10177, 10378, 10507, 10543, 10730, 10759, 10774, 10812, 10928, 11077, 11131, 11142, 11181, 11194, 11236, 11245, 11262, 11362, 11400, 11454, 11599, 11616, 11647, 12058, 12137, 12213, 12261, 12585, 12709, 12817, 12826, 12931, 13060, 13170, 13319, 13373, 13620, 14675]}\", \"id: World War I era, distance: 0.9245898723602295, entity: {'keyword': 'World War I era', 'context_ids': [5277]}\", \"id: Spanish–American War, distance: 0.8657592535018921, entity: {'keyword': 'Spanish–American War', 'context_ids': [620, 1038, 2595, 3814, 3828, 10761, 12741]}\", \"id: Anglo–Sudan War, distance: 0.8657592535018921, entity: {'keyword': 'Anglo–Sudan War', 'context_ids': [231]}\"]\n"
     ]
    }
   ],
   "source": [
    "search_params = {\n",
    "    \"metric_type\": METRIC_TYPE\n",
    "}\n",
    "\n",
    "results = collection.search([sentence_embedding('World War').get()[0]], \"embedding\", search_params, 10, partition_names=[\"test\"], output_fields=[\"keyword\", \"context_ids\"])[0]\n",
    "print(results)"
   ]
  },
  {
   "cell_type": "code",
   "execution_count": 8,
   "metadata": {},
   "outputs": [
    {
     "name": "stdout",
     "output_type": "stream",
     "text": [
      "Keyword:['WikiLeaks', 'Internet']\n",
      "result:[\"id: WikiLeaks, distance: 1.0, entity: {'keyword': 'WikiLeaks', 'context_ids': [0, 429, 1615]}\", \"id: diplomatic cable leaks, distance: 0.41681885719299316, entity: {'keyword': 'diplomatic cable leaks', 'context_ids': [11199]}\", \"id: Facebook, distance: 0.40166175365448, entity: {'keyword': 'Facebook', 'context_ids': [640, 4873, 5814, 7653, 7883, 11253, 11312, 13641]}\", \"id: Facebook, Inc., distance: 0.40166175365448, entity: {'keyword': 'Facebook, Inc.', 'context_ids': [12002]}\", \"id: Twitter, distance: 0.399120956659317, entity: {'keyword': 'Twitter', 'context_ids': [102, 2227, 2266, 2357, 4145, 4873, 11823]}\", \"id: emails, distance: 0.3482602834701538, entity: {'keyword': 'emails', 'context_ids': [11699]}\", \"id: YouTube, distance: 0.3356497287750244, entity: {'keyword': 'YouTube', 'context_ids': [4541, 4649, 4873, 5681, 8933, 11140, 14122]}\", \"id: web, distance: 0.325663298368454, entity: {'keyword': 'web', 'context_ids': [3165]}\", \"id: PayPal, distance: 0.31944888830184937, entity: {'keyword': 'PayPal', 'context_ids': [10429]}\", \"id: Facebook Messenger, distance: 0.3129879832267761, entity: {'keyword': 'Facebook Messenger', 'context_ids': [11312]}\"]\n",
      "result:[\"id: Internet, distance: 1.0000001192092896, entity: {'keyword': 'Internet', 'context_ids': [0, 10, 429, 506, 1771, 2051, 2074, 2587, 2670, 3007, 3014, 3038, 3300, 3312, 3596, 3692, 4260, 4649, 4752, 5048, 5582, 6829, 7411, 7653, 7982, 8228, 10246, 11425, 11615, 11758, 11984, 12130, 13990, 14320]}\", \"id: internet, distance: 1.0000001192092896, entity: {'keyword': 'internet', 'context_ids': [2753, 5048, 6520, 6526, 9804, 10246, 11699, 13995]}\", \"id: Internet users, distance: 0.9161738157272339, entity: {'keyword': 'Internet users', 'context_ids': [506, 4252]}\", \"id: internet users, distance: 0.9161738157272339, entity: {'keyword': 'internet users', 'context_ids': [5957]}\", \"id: Internet access, distance: 0.8895124793052673, entity: {'keyword': 'Internet access', 'context_ids': [506, 2587, 7982, 11425]}\", \"id: Internet connection, distance: 0.8809499740600586, entity: {'keyword': 'Internet connection', 'context_ids': [9850]}\", \"id: internet forums, distance: 0.8747597336769104, entity: {'keyword': 'internet forums', 'context_ids': [3702]}\", \"id: Internet forums, distance: 0.8747597336769104, entity: {'keyword': 'Internet forums', 'context_ids': [11984]}\", \"id: internet services, distance: 0.8615365028381348, entity: {'keyword': 'internet services', 'context_ids': [13995]}\", \"id: Internet of things, distance: 0.8575776219367981, entity: {'keyword': 'Internet of things', 'context_ids': [645]}\"]\n"
     ]
    }
   ],
   "source": [
    "\n",
    "tokenizer = AutoTokenizer.from_pretrained(\"yanekyuk/bert-uncased-keyword-extractor\")\n",
    "model = AutoModelForTokenClassification.from_pretrained(\"yanekyuk/bert-uncased-keyword-extractor\")\n",
    "kw_extractor = pipeline(\"token-classification\",\n",
    "                        model=model, \n",
    "                        tokenizer=tokenizer)\n",
    "\n",
    "\n",
    "Query = \"In what year did WikiLeaks first display information on the Internet?\"\n",
    "Keyword = KeyWords_generator(kw_extractor(Query),Query)\n",
    "\n",
    "print(f'Keyword:{Keyword}')\n",
    "\n",
    "results = []\n",
    "for kw in Keyword:\n",
    "    result = collection.search([sentence_embedding(kw).get()[0]], \"embedding\", search_params, 10, partition_names=[\"test\"], output_fields=[\"keyword\", \"context_ids\"])[0]\n",
    "    print(f'result:{result}')\n",
    "    results.extend(result)\n",
    "    \n",
    "# collection.search([sentence_embedding(\"WikeLeaks, Internet\").get()[0]], \"embedding\", search_params, 10, partition_names=[\"test\"], output_fields=[\"keyword\", \"context_ids\"])[0]\n"
   ]
  },
  {
   "cell_type": "markdown",
   "metadata": {},
   "source": [
    "## --VERSION 2: Text Embedding \n",
    "Use Dense Embedding to convert context into dense vectors, and use Query to calculate similarity with these embeddings."
   ]
  },
  {
   "cell_type": "code",
   "execution_count": 2,
   "metadata": {},
   "outputs": [],
   "source": [
    "PATH_EMBEDDING = './data/text_embedding.json'  \n",
    "PATH_CONTEXT = './data/Keywords.json'\n",
    "\n",
    "with open(PATH_EMBEDDING, 'r') as file:\n",
    "    eb_data = load(file)\n",
    "\n",
    "with open(PATH_CONTEXT, 'r') as file:\n",
    "    txt_data = load(file)\n",
    "#Embeddings for all contexts\n",
    "embedding_array = np.array(eb_data) #(14867, 1024)\n",
    "\n"
   ]
  },
  {
   "cell_type": "code",
   "execution_count": 3,
   "metadata": {},
   "outputs": [
    {
     "data": {
      "application/vnd.jupyter.widget-view+json": {
       "model_id": "84c4e5258d6d483ea8f60ec69587432f",
       "version_major": 2,
       "version_minor": 0
      },
      "text/plain": [
       "Fetching 19 files:   0%|          | 0/19 [00:00<?, ?it/s]"
      ]
     },
     "metadata": {},
     "output_type": "display_data"
    },
    {
     "name": "stdout",
     "output_type": "stream",
     "text": [
      "loading existing colbert_linear and sparse_linear---------\n"
     ]
    }
   ],
   "source": [
    "model = BGEM3FlagModel('BAAI/bge-m3',  \n",
    "                       use_fp16=True) # Setting use_fp16 to True speeds up computation with a slight performance degradation"
   ]
  },
  {
   "cell_type": "code",
   "execution_count": 4,
   "metadata": {},
   "outputs": [
    {
     "name": "stderr",
     "output_type": "stream",
     "text": [
      "encoding:   0%|          | 0/1 [00:00<?, ?it/s]You're using a XLMRobertaTokenizerFast tokenizer. Please note that with a fast tokenizer, using the `__call__` method is faster than using a method to encode the text followed by a call to the `pad` method to get a padded encoding.\n",
      "huggingface/tokenizers: The current process just got forked, after parallelism has already been used. Disabling parallelism to avoid deadlocks...\n",
      "To disable this warning, you can either:\n",
      "\t- Avoid using `tokenizers` before the fork if possible\n",
      "\t- Explicitly set the environment variable TOKENIZERS_PARALLELISM=(true | false)\n",
      "encoding: 100%|██████████| 1/1 [00:35<00:00, 35.50s/it]\n"
     ]
    }
   ],
   "source": [
    "Query = \"How many Arab soldiers died in the Arab-Israeli war?\"\n",
    "embeddings_1 = model.encode(Query, \n",
    "                            max_length=50, # If you don't need such a long length, you can set a smaller value to speed up the encoding process.\n",
    "                            )['dense_vecs']\n",
    "similarity = embeddings_1 @ embedding_array.T #Can be modified\n"
   ]
  },
  {
   "cell_type": "code",
   "execution_count": 5,
   "metadata": {},
   "outputs": [
    {
     "name": "stdout",
     "output_type": "stream",
     "text": [
      "similarity: 0.7291543682636075\n",
      "Query: How many Arab soldiers died in the Arab-Israeli war?\n",
      "==================================================================\n",
      "candidate context:  The exact number of Arab casualties is unknown. One estimate places the Arab death toll at 7,000, including 3,000 Palestinians, 2,000 Egyptians, 1,000 Jordanians, and 1,000 Syrians. In 1958, Palestinian historian Aref al-Aref calculated that the Arab armies' combined losses amounted to 3,700, with Egypt losing 961 regular and 200 irregular soldiers and Jordan losing 362 regulars and 200 irregulars. According to Henry Laurens, the Palestinians suffered double the Jewish losses, with 13,000 dead, 1,953 of whom are known to have died in combat situations. Of the remainder, 4,004 remain nameless but the place, tally and date of their death is known, and a further 7,043, for whom only the place of death is known, not their identities nor the date of their death. According to Laurens, the largest part of Palestinian casualties consisted of non-combatants and corresponds to the successful operations of the Israelis.\n",
      "\n",
      "\n",
      "similarity: 0.6031683070175404\n",
      "Query: How many Arab soldiers died in the Arab-Israeli war?\n",
      "==================================================================\n",
      "candidate context:  The Gaza War, also known as Operation Cast Lead (), also known in the Muslim world as the Gaza Massacre () and the Battle of al-Furqan () by Hamas, was a three-week armed conflict between Palestinians in the Gaza Strip and Israel that began on 27 December 2008 and ended on 18 January 2009 in a unilateral ceasefire. The conflict resulted in between 1,166 and 1,417 Palestinian and 13 Israeli deaths (4 from friendly fire).\n",
      "\n",
      "\n",
      "similarity: 0.5701435651583324\n",
      "Query: How many Arab soldiers died in the Arab-Israeli war?\n",
      "==================================================================\n",
      "candidate context:  The Gaza War started when Israel launched a large military campaign in the Gaza Strip on 27 December 2008, codenamed Operation \"Cast Lead\" (), with the stated aim of stopping Hamas rocket attacks on southern Israel and arms smuggling into Gaza. The conflict has also been called the Gaza massacre in the Arab world (). A fragile six-month truce between Hamas and Israel expired on 19 December 2008. The Israeli operation began with an intense bombardment of the Gaza Strip, targeting Hamas bases, police training camps, police headquarters and offices. Civilian infrastructure, including mosques, houses, medical facilities and schools, were also attacked, as Israel stated that many of them were used by combatants, and as storage spaces for weapons and rockets. Hamas intensified its rocket and mortar attacks against targets in Israel throughout the conflict, hitting previously untargeted cities such as Beersheba and Ashdod. On 3 January 2009, the Israeli ground invasion began. Human rights groups and aid organisations have accused Hamas and Israel of war crimes. An estimated 1,166-1,417 Palestinians and 13 Israelis died in the conflict. The conflict came to an end on 18 January after first Israel and then Hamas announced unilateral ceasefires. On 21 January, Israel completed its withdrawal from the Gaza Strip. On 2 March, it was reported that international donors had pledged $4.5 billion in aid for the Palestinians, mainly for rebuilding Gaza after Israel's offensive. This war is considered to be the largest, devastating and deadliest military operation in Gaza since the Six-day war in 1967.\n",
      "\n",
      "\n",
      "similarity: 0.5589728911905354\n",
      "Query: How many Arab soldiers died in the Arab-Israeli war?\n",
      "==================================================================\n",
      "candidate context:  Literary Arabic, along with Hebrew, has special status under Israeli law, and was the country's second official language until 2018, when Hebrew was declared the sole official language. Various spoken dialects are used. Arabic is the native language among Israeli-Arabs. In 1949, 156,000 Palestinian Arabs were left inside Israel’s armistice line, most of whom did not speak Hebrew. Today, the figure stands at about 1.6 million, and although most are proficient in Hebrew, Arabic remains their primary native language.\n",
      "\n",
      "\n",
      "similarity: 0.5476112270970361\n",
      "Query: How many Arab soldiers died in the Arab-Israeli war?\n",
      "==================================================================\n",
      "candidate context:  Organized into two 'squadrons', one of which was equipped with North American T-6 Harvards, the air force participated in the 1948 Arab–Israeli War, conducting bombing raids against Israeli forces and settlements. One T-6 was lost to ground fire while attacking Ayelet Hashahar on 16 July, and another possibly shot down by Morris Mann (flying an Avia S-199) on 10 June. The Syrian Air Force claimed its sole kill of the war on 10 July when a rear gunner of a Harvard shot down an Avia S-199 flown by Lionel Bloch.\n",
      "\n",
      "\n",
      "similarity: 0.543722438255827\n",
      "Query: How many Arab soldiers died in the Arab-Israeli war?\n",
      "==================================================================\n",
      "candidate context:  Estimates of deaths in the Syrian Civil War, per opposition activist groups, vary between 367,965 and 560,000. On 23 April 2016, the United Nations and Arab League Envoy to Syria put out an estimate of 400,000 that had died in the war.\n",
      "\n",
      "\n",
      "similarity: 0.5256697080136519\n",
      "Query: How many Arab soldiers died in the Arab-Israeli war?\n",
      "==================================================================\n",
      "candidate context:  The 2014 Israel–Gaza conflict also known as Operation Protective Edge (, \"Miv'tza Tzuk Eitan\", lit. \"Operation Strong Cliff\") and sometimes referred to as the 2014 Gaza war,\n",
      "was a military operation launched by Israel on 8 July 2014 in the Hamas-ruled Gaza Strip. Following the kidnapping and murder of three Israeli teenagers by Hamas members, the IDF conducted \"Operation Brother's Keeper\" to arrest militant leaders, Hamas fired rockets into Israel and a seven-week conflict broke out. The Israeli airstrikes and ground bombardment, the Palestinian rocket attacks and the ground fighting resulted in the death of thousands of people, the vast majority of them Gazans.\n",
      "\n",
      "\n",
      "similarity: 0.5163921881684246\n",
      "Query: How many Arab soldiers died in the Arab-Israeli war?\n",
      "==================================================================\n",
      "candidate context:  The Battle of Khaybar was fought in the year 628 between Muslims and the Jews living in the oasis of Khaybar, located from Medina in the north-western part of the Arabian peninsula, in modern-day Saudi Arabia. According to Hagai Mazuz, “The Jewish community of northern Arabia was one of the largest ancient Jewish communities in the history of the Jewish people.” For almost a thousand years Jews lived in the oases of Teyma, Khaybar, and Yathrib (later known as Medina), in the northern Arabian Peninsula. \n",
      "According to Muslim sources, the Muslim soldiers attacked the native Jews who had barricaded themselves in forts.\n",
      "\n",
      "\n",
      "similarity: 0.5100307079810591\n",
      "Query: How many Arab soldiers died in the Arab-Israeli war?\n",
      "==================================================================\n",
      "candidate context:  The Battle of Khaybar took place in May/June 628. The Jewish Banū *Naḍīr of *Medina, who claimed to be descendants of Aaron the priest, owned lands in Khaybar and had castles, fortresses, and their own weapons there. After Muhammad expelled them from Medina in 625, their leaders moved to their estates in Khaybar in order to prepare for war against Muhammad and to recruit the aid of Arab tribes. Muhammad first sent disguised guests to the homes of the leaders of Banū Naḍīr who then killed their hosts. Muhammad's victory over the Jews of Khaybar in the subsequent battle was also aided by the distance of the settlements and their castles from one another, the absence of coordination between the fighting forces, the death of the leader Sallām ibn Mishkam, and a Jew who showed the Muslims the secret entrances to one of the fortresses. The castles of Khaybar had tunnels and passages which in wartime enabled the besieged to reach water sources outside the castles. Between 16-18 Muslims were killed\n",
      "and 93 Jews. After the Muslim victory, Muhammad, concerned that Khaybar would remain desolate and would not continue supplying its agricultural produce to the Hejaz, signed an agreement with the Jews which allowed many of its inhabitants to remain on their lands, while requiring payment of half their crops to the conquerors. From a legal point of view the pact was defective, since it did not define the situation of the Jews and did not say whether they were to remain the owners of the soil which they were to cultivate. In later years Muslim jurists defined this settlement as land tenure with rent paid in produce. One version of this agreement was copied by Joseph *Sambari in the 17th century. According to Muslim sources, Muhammad returned to the Jews copies of the Torah seized during the siege, since he opposed desecrating them. After captives of war and slaves from other countries were brought to Khaybar and the people of Hejaz became more accustomed to agriculture, the caliph Omar decided to expel the Jews of Khaybar in 642 under the pretense that before his death Muhammad had commanded that two religions could not exist simultaneously in the Hejaz.\n",
      "\n",
      "\n",
      "similarity: 0.5079893610408135\n",
      "Query: How many Arab soldiers died in the Arab-Israeli war?\n",
      "==================================================================\n",
      "candidate context:  Reported French army casualties vary: 37 or 40 killed, 42 or 62 wounded, and 145 or 155 prisoners (or 150 reported missing). The Army of the Alps suffered 20 killed, 84 wounded and 154 taken prisoner in the fighting with the German forces advancing from Lyon. Italian casualties amounted to 631 or 642 men killed, 2,631 wounded and 616 reported missing. A further 2,151 men suffered from frostbite during the campaign. The official Italian numbers were compiled for a report on 18 July 1940, when many of the fallen still lay under snow. It is probable that most of the Italian missing were dead. Units operating in more difficult terrain had higher ratios of missing to killed, but probably most of the missing had died. The 44th Regiment of the Infantry Division \"Forlì\" reported 21 dead, 46 wounded, 4 frostbitten and at least 296 missing, almost all whom were captured. The official number of French POWs was 155. All Italian prisoners of war—there is no record of how many there were, perhaps 1,141—were released immediately, but the armistice negotiators seem to have forgotten the French prisoners, who were sent to the camp at Fonte d'Amore near Sulmona, later joined by 200 British and 600 Greeks. Although treated in accordance with the laws of war by the Italians, they probably fell into German hands after Italy's surrender in September 1943.\n"
     ]
    }
   ],
   "source": [
    "similarity\n",
    "idx = np.argsort(similarity)[::-1]\n",
    "nums_candidate_context = 10\n",
    "candidate_context = []\n",
    "\n",
    "candidate_context.append({\"similarity\":similarity[idx[0]],\n",
    "                          \"Query\": Query,\n",
    "                          \"Candidate Context\":txt_data[idx[0]]['context']})\n",
    "count = 1\n",
    "for i in idx:\n",
    "    if count == nums_candidate_context:\n",
    "        break\n",
    "    if np.isclose(similarity[i], candidate_context[-1][\"similarity\"]):\n",
    "        continue\n",
    "    \n",
    "    print(f'similarity: {candidate_context[-1][\"similarity\"]}')\n",
    "    print(f'Query: {candidate_context[-1][\"Query\"]}')\n",
    "    print(\"==================================================================\")\n",
    "    print(\"candidate context: \",candidate_context[-1][\"Candidate Context\"])\n",
    "    print('\\n')\n",
    "    count+=1\n",
    "    candidate_context.append({\"similarity\":similarity[i],\n",
    "                          \"Query\": Query,\n",
    "                          \"Candidate Context\":txt_data[i]['context']})\n",
    " \n",
    "    \n",
    "print(f'similarity: {candidate_context[-1][\"similarity\"]}')\n",
    "print(f'Query: {candidate_context[-1][\"Query\"]}')\n",
    "print(\"==================================================================\")\n",
    "print(\"candidate context: \",candidate_context[-1][\"Candidate Context\"])\n",
    "\n"
   ]
  },
  {
   "cell_type": "code",
   "execution_count": null,
   "metadata": {},
   "outputs": [],
   "source": []
  }
 ],
 "metadata": {
  "kernelspec": {
   "display_name": "Python 3",
   "language": "python",
   "name": "python3"
  },
  "language_info": {
   "codemirror_mode": {
    "name": "ipython",
    "version": 3
   },
   "file_extension": ".py",
   "mimetype": "text/x-python",
   "name": "python",
   "nbconvert_exporter": "python",
   "pygments_lexer": "ipython3",
   "version": "3.11.4"
  }
 },
 "nbformat": 4,
 "nbformat_minor": 2
}
