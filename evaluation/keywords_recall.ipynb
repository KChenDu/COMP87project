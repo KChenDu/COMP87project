{
 "cells": [
  {
   "cell_type": "code",
   "execution_count": 4,
   "id": "initial_id",
   "metadata": {
    "collapsed": true,
    "ExecuteTime": {
     "end_time": "2024-02-14T01:00:19.368347900Z",
     "start_time": "2024-02-14T01:00:16.871552400Z"
    }
   },
   "outputs": [],
   "source": [
    "import matplotlib.pyplot as plt\n",
    "\n",
    "from os import chdir\n",
    "chdir('../DB')\n",
    "from setting import METRIC_TYPE\n",
    "from vector_db import MilvusCollection\n",
    "from relational_db import SQLiteDB\n",
    "from towhee import AutoConfig, AutoPipes\n",
    "from loguru import logger\n",
    "from json import load\n",
    "from numpy import array, argpartition\n",
    "\n",
    "\n",
    "data_path = '../data/Query_BART_Keywords_artificially_prob.json'\n",
    "collection_name = 'BERT_keywords'\n",
    "partition = 'en'\n",
    "\n",
    "collection = MilvusCollection(collection_name)\n",
    "sqlite_db = SQLiteDB('sqlite/context')\n",
    "\n",
    "config = AutoConfig.load_config('sentence_embedding')\n",
    "config.model = 'average_word_embeddings_glove.6B.300d'\n",
    "sentence_embedding = AutoPipes.pipeline('sentence_embedding', config=config)"
   ]
  },
  {
   "cell_type": "code",
   "outputs": [
    {
     "name": "stderr",
     "output_type": "stream",
     "text": [
      "2024-02-14 01:00:19.384 | DEBUG    | __main__:<module>:9 - Loading data in '../data/Query_BART_Keywords_artificially_prob.json'\n",
      "2024-02-14 01:00:19.415 | DEBUG    | __main__:<module>:14 - Data in '../data/Query_BART_Keywords_artificially_prob.json' loaded\n",
      "2024-02-14 01:00:19.416 | DEBUG    | __main__:<module>:15 - Generating embeddings\n",
      "2024-02-14 01:00:47.382 | DEBUG    | __main__:<module>:35 - Embeddings generated\n",
      "2024-02-14 01:00:47.383 | DEBUG    | __main__:<module>:36 - Searching in partition <en> from collection <BERT_keywords>\n",
      "2024-02-14 01:01:00.766 | DEBUG    | __main__:<module>:57 - Searching completed\n"
     ]
    },
    {
     "name": "stdout",
     "output_type": "stream",
     "text": [
      "recall =  0.32749999999999907\n"
     ]
    }
   ],
   "source": [
    "search_params = {\n",
    "    \"metric_type\": METRIC_TYPE,\n",
    "    \"params\": {\n",
    "        # search for vectors with a distance greater than 0.8\n",
    "        \"radius\": 0.8\n",
    "    }\n",
    "}\n",
    "\n",
    "logger.debug(\"Loading data in '\" + data_path + \"'\")\n",
    "\n",
    "with open(data_path, 'r') as file:\n",
    "    queries = load(file)[:10000]\n",
    "\n",
    "logger.debug(\"Data in '\" + data_path + \"' loaded\")\n",
    "logger.debug(\"Generating embeddings\")\n",
    "\n",
    "keywords = []\n",
    "list_weights = [None] * len(queries)\n",
    "\n",
    "for i, query in enumerate(queries):\n",
    "    kws = query['keywords']\n",
    "    if 'prob' in query:\n",
    "        prob = query['prob']\n",
    "        # print(i, ',', prob)\n",
    "        prob = [.9 if p == '' else float(p) for p in prob] ## Remove later\n",
    "        s = sum(prob)\n",
    "        list_weights[i] = [p / s for p in prob]\n",
    "    else:\n",
    "        length = len(kws)\n",
    "        list_weights[i] = [1. / length] * length\n",
    "    keywords += kws\n",
    "\n",
    "embeddings = [embedding.get()[0] for embedding in sentence_embedding.batch(keywords)]\n",
    "\n",
    "logger.debug(\"Embeddings generated\")\n",
    "logger.debug(\"Searching in partition <\" + partition + \"> from collection <\" + collection_name + '>')\n",
    "\n",
    "length = len(embeddings)\n",
    "results = [None] * length\n",
    "\n",
    "i = 0\n",
    "\n",
    "# 16384 is milvu's maximum search batch size\n",
    "while i + 16384 < length:\n",
    "    search_results = collection.search(embeddings[i:i + 16384], \"embedding\", search_params, 5, partition_names=[partition], output_fields=[\"context_ids\"])\n",
    "    \n",
    "    for search_result in search_results:\n",
    "        results[i] = search_result\n",
    "        i += 1\n",
    "\n",
    "search_results = collection.search(embeddings[i:], \"embedding\", search_params, 5, partition_names=[partition], output_fields=[\"context_ids\"])\n",
    "    \n",
    "for search_result in search_results:\n",
    "    results[i] = search_result\n",
    "    i += 1\n",
    "\n",
    "logger.debug(\"Searching completed\")\n",
    "\n",
    "recalls = []\n",
    "recall = 0.\n",
    "left_index = 0\n",
    "\n",
    "for i, weights in enumerate(list_weights):\n",
    "    score = {}\n",
    "    for j, weight in enumerate(weights):\n",
    "        result = results[left_index + j]\n",
    "        for hit in result:\n",
    "            distance = hit.distance\n",
    "            for context_id in hit.context_ids:\n",
    "                if context_id in score:\n",
    "                    score[context_id] += weight * distance\n",
    "                else:\n",
    "                    score[context_id] = weight * distance\n",
    "    \n",
    "    length = len(score)\n",
    "    \n",
    "    if length < 6:\n",
    "        keys = list(score.keys())\n",
    "    else:\n",
    "        values = array(list(score.values()))\n",
    "        args = argpartition(values, -5)[-5:]\n",
    "        keys = array(list(score.keys()))[args]\n",
    "    \n",
    "    context_id = queries[i]['context_id']\n",
    "    # print(f\"docs retrieved for query {i}: {keys} (expected: {context_id})\")\n",
    "    \n",
    "    if context_id in keys:\n",
    "        recall = (i * recall + 1) / (i + 1)\n",
    "    else:\n",
    "        recall *= i / (i + 1)\n",
    "    \n",
    "    # print(\"recall: \", recall)\n",
    "    # print('\\n')\n",
    "    recalls.append(recall)\n",
    "    left_index += len(weights)\n",
    "\n",
    "print('recall = ', recall)"
   ],
   "metadata": {
    "collapsed": false,
    "ExecuteTime": {
     "end_time": "2024-02-14T01:01:01.013570200Z",
     "start_time": "2024-02-14T01:00:19.386563Z"
    }
   },
   "id": "e1b38c7d451822ed",
   "execution_count": 5
  },
  {
   "cell_type": "code",
   "outputs": [
    {
     "data": {
      "text/plain": "Text(0, 0.5, 'recall')"
     },
     "execution_count": 6,
     "metadata": {},
     "output_type": "execute_result"
    },
    {
     "data": {
      "text/plain": "<Figure size 640x480 with 1 Axes>",
      "image/png": "[encoded data removed]"
     },
     "metadata": {},
     "output_type": "display_data"
    }
   ],
   "source": [
    "plt.plot(recalls)\n",
    "plt.xlabel('number of sample')\n",
    "plt.ylabel('recall')"
   ],
   "metadata": {
    "collapsed": false,
    "ExecuteTime": {
     "end_time": "2024-02-14T01:01:01.088170700Z",
     "start_time": "2024-02-14T01:01:01.013570200Z"
    }
   },
   "id": "8d1d3e1749b6c341",
   "execution_count": 6
  }
 ],
 "metadata": {
  "kernelspec": {
   "display_name": "Python 3",
   "language": "python",
   "name": "python3"
  },
  "language_info": {
   "codemirror_mode": {
    "name": "ipython",
    "version": 2
   },
   "file_extension": ".py",
   "mimetype": "text/x-python",
   "name": "python",
   "nbconvert_exporter": "python",
   "pygments_lexer": "ipython2",
   "version": "2.7.6"
  }
 },
 "nbformat": 4,
 "nbformat_minor": 5
}
