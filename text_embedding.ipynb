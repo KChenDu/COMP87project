{
 "cells": [
  {
   "cell_type": "code",
   "execution_count": 53,
   "metadata": {},
   "outputs": [],
   "source": [
    "from utility import create_milvus_collection, milvus_collection_exists, drop_milvus_collection, create_sqlite_db, sqlite_db_exists, drop_sqlite_db\n",
    "from relational_db import SQLiteDB\n",
    "from setting import TABEL2FIELD, METRIC_TYPE\n",
    "from json import load\n",
    "from vector_db import MilvusCollection\n",
    "import os\n",
    "from pymilvus import connections\n",
    "from towhee import AutoConfig, AutoPipes\n",
    "import numpy as np\n",
    "from FlagEmbedding import BGEM3FlagModel\n",
    "from sklearn.metrics.pairwise import cosine_similarity\n",
    "\n",
    "from transformers import AutoTokenizer, AutoModelForTokenClassification\n",
    "from transformers import pipeline\n",
    "from preprocess import KeyWords_generator, read_json, segment_text, preprocess\n"
   ]
  },
  {
   "cell_type": "code",
   "execution_count": 2,
   "metadata": {},
   "outputs": [
    {
     "ename": "Exception",
     "evalue": "Database test already exists.",
     "output_type": "error",
     "traceback": [
      "\u001b[0;31m---------------------------------------------------------------------------\u001b[0m",
      "\u001b[0;31mException\u001b[0m                                 Traceback (most recent call last)",
      "\u001b[1;32m/Users/ruzexi/inf301/mv/DB/demo_txtebd.ipynb 单元格 2\u001b[0m line \u001b[0;36m4\n\u001b[1;32m      <a href='vscode-notebook-cell:/Users/ruzexi/inf301/mv/DB/demo_txtebd.ipynb#W1sZmlsZQ%3D%3D?line=0'>1</a>\u001b[0m keyword2context \u001b[39m=\u001b[39m {}\n\u001b[1;32m      <a href='vscode-notebook-cell:/Users/ruzexi/inf301/mv/DB/demo_txtebd.ipynb#W1sZmlsZQ%3D%3D?line=2'>3</a>\u001b[0m \u001b[39m# Create a relational db to store context and its id\u001b[39;00m\n\u001b[0;32m----> <a href='vscode-notebook-cell:/Users/ruzexi/inf301/mv/DB/demo_txtebd.ipynb#W1sZmlsZQ%3D%3D?line=3'>4</a>\u001b[0m create_sqlite_db()\n\u001b[1;32m      <a href='vscode-notebook-cell:/Users/ruzexi/inf301/mv/DB/demo_txtebd.ipynb#W1sZmlsZQ%3D%3D?line=4'>5</a>\u001b[0m db \u001b[39m=\u001b[39m SQLiteDB()\n\u001b[1;32m      <a href='vscode-notebook-cell:/Users/ruzexi/inf301/mv/DB/demo_txtebd.ipynb#W1sZmlsZQ%3D%3D?line=6'>7</a>\u001b[0m \u001b[39mfor\u001b[39;00m table, fields \u001b[39min\u001b[39;00m TABEL2FIELD\u001b[39m.\u001b[39mitems():\n",
      "File \u001b[0;32m~/inf301/mv/DB/utility.py:39\u001b[0m, in \u001b[0;36mcreate_sqlite_db\u001b[0;34m(name)\u001b[0m\n\u001b[1;32m     37\u001b[0m db_file \u001b[39m=\u001b[39m Path(\u001b[39m\"\u001b[39m\u001b[39msqlite/\u001b[39m\u001b[39m\"\u001b[39m \u001b[39m+\u001b[39m name \u001b[39m+\u001b[39m \u001b[39m\"\u001b[39m\u001b[39m.db\u001b[39m\u001b[39m\"\u001b[39m)\n\u001b[1;32m     38\u001b[0m \u001b[39mif\u001b[39;00m db_file\u001b[39m.\u001b[39mis_file():\n\u001b[0;32m---> 39\u001b[0m     \u001b[39mraise\u001b[39;00m \u001b[39mException\u001b[39;00m(\u001b[39m\"\u001b[39m\u001b[39mDatabase \u001b[39m\u001b[39m\"\u001b[39m \u001b[39m+\u001b[39m name \u001b[39m+\u001b[39m \u001b[39m\"\u001b[39m\u001b[39m already exists.\u001b[39m\u001b[39m\"\u001b[39m)\n\u001b[1;32m     40\u001b[0m \u001b[39mtry\u001b[39;00m:\n\u001b[1;32m     41\u001b[0m     conn \u001b[39m=\u001b[39m sqlite3\u001b[39m.\u001b[39mconnect(db_file)\n",
      "\u001b[0;31mException\u001b[0m: Database test already exists."
     ]
    }
   ],
   "source": [
    "keyword2context = {}\n",
    "\n",
    "# Create a relational db to store context and its id\n",
    "create_sqlite_db()\n",
    "db = SQLiteDB()\n",
    "\n",
    "for table, fields in TABEL2FIELD.items():\n",
    "    db.create_table(table, fields)\n",
    "\n",
    "# Read context-to-keywords json file and make keyword-to-contexts mapping\n",
    "with open('./data/Keywords.json', 'r') as f:\n",
    "    data = load(f)\n",
    "\n",
    "for i, datum in enumerate(data):\n",
    "    db.insert('context', f\"{i}, '\" + datum['context'].replace(\"'\", \"''\") + \"'\")\n",
    "    for keyword in datum['keywords']:\n",
    "        if keyword in keyword2context:\n",
    "            keyword2context[keyword].append(i)\n",
    "        else:\n",
    "            keyword2context[keyword] = [i]\n",
    "\n",
    "# Embed all keywords and insert into vector DB\n",
    "if not milvus_collection_exists():\n",
    "    create_milvus_collection()\n",
    "\n",
    "collection = MilvusCollection()\n",
    "if not collection.has_partition(\"test\"):\n",
    "    collection.create_partition(\"test\")\n",
    "\n",
    "config = AutoConfig.load_config('sentence_embedding')\n",
    "config.model = 'average_word_embeddings_glove.6B.300d'\n",
    "sentence_embedding = AutoPipes.pipeline('sentence_embedding', config=config)\n",
    "\n",
    "keywords = list(keyword2context.keys())\n",
    "collection.insert([keywords,\n",
    "                   [embedding.get()[0] for embedding in sentence_embedding.batch(keywords)],\n",
    "                   list(keyword2context.values())], \"test\")"
   ]
  },
  {
   "cell_type": "code",
   "execution_count": 30,
   "metadata": {},
   "outputs": [],
   "source": [
    "collection = MilvusCollection()"
   ]
  },
  {
   "cell_type": "code",
   "execution_count": 3,
   "metadata": {},
   "outputs": [],
   "source": [
    "config = AutoConfig.load_config('sentence_embedding')\n",
    "config.model = 'average_word_embeddings_glove.6B.300d'\n",
    "sentence_embedding = AutoPipes.pipeline('sentence_embedding', config=config)"
   ]
  },
  {
   "cell_type": "code",
   "execution_count": 7,
   "metadata": {},
   "outputs": [
    {
     "name": "stdout",
     "output_type": "stream",
     "text": [
      "[\"id: World War One, distance: 1.0000001192092896, entity: {'keyword': 'World War One', 'context_ids': [12657]}\", \"id: First World War, distance: 1.0000001192092896, entity: {'keyword': 'First World War', 'context_ids': [920, 1529, 2223, 6244, 6253, 6682, 7342, 7574, 7597, 7659, 8546, 8608, 8837, 9402, 9538, 10344, 11111, 11506]}\", \"id: World War I, distance: 1.0000001192092896, entity: {'keyword': 'World War I', 'context_ids': [207, 571, 752, 1038, 1043, 1278, 1344, 2407, 2453, 2462, 2571, 2994, 3648, 3795, 4256, 4737, 4840, 4923, 5047, 5140, 5288, 5290, 5819, 6395, 6758, 6798, 6995, 7127, 7173, 7176, 7224, 7230, 7258, 7272, 7398, 7479, 7969, 8001, 8018, 8057, 8072, 8205, 8358, 8463, 8497, 8500, 8546, 8678, 8850, 9471, 9766, 9799, 9975, 10112, 10167, 10259, 10291, 10510, 10639, 10809, 10812, 10827, 11001, 11125, 11142, 11224, 11239, 11316, 11521, 11547, 11620, 11676, 11873, 11894, 11995, 12119, 12120, 12132, 12169, 12233, 12554, 13768, 13834, 14315]}\", \"id: World War, distance: 1.0000001192092896, entity: {'keyword': 'World War', 'context_ids': [5, 2978, 3083, 3528, 3878, 4906, 4941, 5989, 7082, 7083, 7402, 7492, 7850, 7930, 8420, 8489, 11187, 13158]}\", \"id: World War Two, distance: 1.0000001192092896, entity: {'keyword': 'World War Two', 'context_ids': [2171, 2382]}\", \"id: Second World War, distance: 0.9479931592941284, entity: {'keyword': 'Second World War', 'context_ids': [231, 920, 1336, 2223, 2953, 3621, 3786, 3873, 3982, 4554, 4831, 5009, 5847, 6104, 6713, 6748, 6792, 7107, 7311, 7313, 7466, 8221, 9047, 9100, 9174, 10307, 10372, 10420, 10439, 10441, 10543, 10750, 12324, 12915]}\", \"id: World War II, distance: 0.9389195442199707, entity: {'keyword': 'World War II', 'context_ids': [166, 423, 1038, 1115, 1336, 1371, 1401, 1659, 1725, 1835, 1874, 2145, 2379, 2447, 2528, 2588, 2675, 2677, 2699, 2740, 2800, 2810, 2816, 2839, 2862, 2912, 2942, 2994, 3024, 3037, 3083, 3087, 3090, 3117, 3227, 3239, 3367, 3381, 3456, 3480, 3489, 3520, 3528, 3556, 3648, 3669, 3730, 3795, 3862, 3895, 3896, 3934, 3938, 3991, 4265, 4294, 4476, 4535, 4548, 4552, 4823, 4844, 4918, 4989, 5281, 5303, 5315, 5323, 5353, 5381, 5390, 5409, 5455, 5580, 5674, 5681, 5742, 5805, 5808, 5811, 5834, 5968, 5989, 6171, 6173, 6178, 6181, 6257, 6291, 6673, 6677, 6692, 6695, 6697, 6705, 6710, 6720, 6722, 6732, 6747, 6748, 6758, 6769, 6791, 6792, 6825, 6830, 6872, 6917, 6919, 6940, 6956, 6967, 6974, 7025, 7033, 7039, 7046, 7074, 7107, 7116, 7130, 7191, 7212, 7251, 7268, 7278, 7338, 7355, 7395, 7430, 7443, 7459, 7492, 7521, 7547, 7559, 7665, 7740, 7764, 7856, 7930, 7960, 7969, 7983, 7997, 8094, 8197, 8307, 8420, 8452, 8453, 8529, 8624, 8632, 8665, 8689, 8709, 8744, 8879, 8896, 8901, 8930, 8959, 8974, 8989, 9025, 9129, 9130, 9142, 9144, 9150, 9215, 9270, 9379, 9446, 9502, 9535, 9581, 9798, 9900, 9975, 10072, 10107, 10177, 10378, 10507, 10543, 10730, 10759, 10774, 10812, 10928, 11077, 11131, 11142, 11181, 11194, 11236, 11245, 11262, 11362, 11400, 11454, 11599, 11616, 11647, 12058, 12137, 12213, 12261, 12585, 12709, 12817, 12826, 12931, 13060, 13170, 13319, 13373, 13620, 14675]}\", \"id: World War I era, distance: 0.9245898723602295, entity: {'keyword': 'World War I era', 'context_ids': [5277]}\", \"id: Spanish–American War, distance: 0.8657592535018921, entity: {'keyword': 'Spanish–American War', 'context_ids': [620, 1038, 2595, 3814, 3828, 10761, 12741]}\", \"id: Anglo–Sudan War, distance: 0.8657592535018921, entity: {'keyword': 'Anglo–Sudan War', 'context_ids': [231]}\"]\n"
     ]
    }
   ],
   "source": [
    "search_params = {\n",
    "    \"metric_type\": METRIC_TYPE\n",
    "}\n",
    "\n",
    "results = collection.search([sentence_embedding('World War').get()[0]], \"embedding\", search_params, 10, partition_names=[\"test\"], output_fields=[\"keyword\", \"context_ids\"])[0]\n",
    "print(results)"
   ]
  },
  {
   "cell_type": "code",
   "execution_count": 8,
   "metadata": {},
   "outputs": [
    {
     "name": "stdout",
     "output_type": "stream",
     "text": [
      "Keyword:['WikiLeaks', 'Internet']\n",
      "result:[\"id: WikiLeaks, distance: 1.0, entity: {'keyword': 'WikiLeaks', 'context_ids': [0, 429, 1615]}\", \"id: diplomatic cable leaks, distance: 0.41681885719299316, entity: {'keyword': 'diplomatic cable leaks', 'context_ids': [11199]}\", \"id: Facebook, distance: 0.40166175365448, entity: {'keyword': 'Facebook', 'context_ids': [640, 4873, 5814, 7653, 7883, 11253, 11312, 13641]}\", \"id: Facebook, Inc., distance: 0.40166175365448, entity: {'keyword': 'Facebook, Inc.', 'context_ids': [12002]}\", \"id: Twitter, distance: 0.399120956659317, entity: {'keyword': 'Twitter', 'context_ids': [102, 2227, 2266, 2357, 4145, 4873, 11823]}\", \"id: emails, distance: 0.3482602834701538, entity: {'keyword': 'emails', 'context_ids': [11699]}\", \"id: YouTube, distance: 0.3356497287750244, entity: {'keyword': 'YouTube', 'context_ids': [4541, 4649, 4873, 5681, 8933, 11140, 14122]}\", \"id: web, distance: 0.325663298368454, entity: {'keyword': 'web', 'context_ids': [3165]}\", \"id: PayPal, distance: 0.31944888830184937, entity: {'keyword': 'PayPal', 'context_ids': [10429]}\", \"id: Facebook Messenger, distance: 0.3129879832267761, entity: {'keyword': 'Facebook Messenger', 'context_ids': [11312]}\"]\n",
      "result:[\"id: Internet, distance: 1.0000001192092896, entity: {'keyword': 'Internet', 'context_ids': [0, 10, 429, 506, 1771, 2051, 2074, 2587, 2670, 3007, 3014, 3038, 3300, 3312, 3596, 3692, 4260, 4649, 4752, 5048, 5582, 6829, 7411, 7653, 7982, 8228, 10246, 11425, 11615, 11758, 11984, 12130, 13990, 14320]}\", \"id: internet, distance: 1.0000001192092896, entity: {'keyword': 'internet', 'context_ids': [2753, 5048, 6520, 6526, 9804, 10246, 11699, 13995]}\", \"id: Internet users, distance: 0.9161738157272339, entity: {'keyword': 'Internet users', 'context_ids': [506, 4252]}\", \"id: internet users, distance: 0.9161738157272339, entity: {'keyword': 'internet users', 'context_ids': [5957]}\", \"id: Internet access, distance: 0.8895124793052673, entity: {'keyword': 'Internet access', 'context_ids': [506, 2587, 7982, 11425]}\", \"id: Internet connection, distance: 0.8809499740600586, entity: {'keyword': 'Internet connection', 'context_ids': [9850]}\", \"id: internet forums, distance: 0.8747597336769104, entity: {'keyword': 'internet forums', 'context_ids': [3702]}\", \"id: Internet forums, distance: 0.8747597336769104, entity: {'keyword': 'Internet forums', 'context_ids': [11984]}\", \"id: internet services, distance: 0.8615365028381348, entity: {'keyword': 'internet services', 'context_ids': [13995]}\", \"id: Internet of things, distance: 0.8575776219367981, entity: {'keyword': 'Internet of things', 'context_ids': [645]}\"]\n"
     ]
    }
   ],
   "source": [
    "\n",
    "tokenizer = AutoTokenizer.from_pretrained(\"yanekyuk/bert-uncased-keyword-extractor\")\n",
    "model = AutoModelForTokenClassification.from_pretrained(\"yanekyuk/bert-uncased-keyword-extractor\")\n",
    "kw_extractor = pipeline(\"token-classification\",\n",
    "                        model=model, \n",
    "                        tokenizer=tokenizer)\n",
    "\n",
    "\n",
    "Query = \"In what year did WikiLeaks first display information on the Internet?\"\n",
    "Keyword = KeyWords_generator(kw_extractor(Query),Query)\n",
    "\n",
    "print(f'Keyword:{Keyword}')\n",
    "\n",
    "results = []\n",
    "for kw in Keyword:\n",
    "    result = collection.search([sentence_embedding(kw).get()[0]], \"embedding\", search_params, 10, partition_names=[\"test\"], output_fields=[\"keyword\", \"context_ids\"])[0]\n",
    "    print(f'result:{result}')\n",
    "    results.extend(result)\n",
    "    \n",
    "# collection.search([sentence_embedding(\"WikeLeaks, Internet\").get()[0]], \"embedding\", search_params, 10, partition_names=[\"test\"], output_fields=[\"keyword\", \"context_ids\"])[0]\n"
   ]
  },
  {
   "cell_type": "code",
   "execution_count": 10,
   "metadata": {},
   "outputs": [
    {
     "data": {
      "text/plain": [
       "(14867, 1024)"
      ]
     },
     "execution_count": 10,
     "metadata": {},
     "output_type": "execute_result"
    }
   ],
   "source": [
    "json_file_path = 'text_embedding.json'  # \n",
    "\n",
    "# 读取JSON文件\n",
    "with open(json_file_path, 'r') as file:\n",
    "    data = load(file)\n",
    "\n",
    "embedding_array = np.array(data) #(14867, 1024)\n",
    "\n"
   ]
  },
  {
   "cell_type": "code",
   "execution_count": 12,
   "metadata": {},
   "outputs": [
    {
     "data": {
      "application/vnd.jupyter.widget-view+json": {
       "model_id": "c80be4bbaae8442a80e602eae9eb9272",
       "version_major": 2,
       "version_minor": 0
      },
      "text/plain": [
       "Fetching 19 files:   0%|          | 0/19 [00:00<?, ?it/s]"
      ]
     },
     "metadata": {},
     "output_type": "display_data"
    },
    {
     "name": "stdout",
     "output_type": "stream",
     "text": [
      "loading existing colbert_linear and sparse_linear---------\n"
     ]
    }
   ],
   "source": [
    "model = BGEM3FlagModel('BAAI/bge-m3',  \n",
    "                       use_fp16=True) # Setting use_fp16 to True speeds up computation with a slight performance degradation"
   ]
  },
  {
   "cell_type": "code",
   "execution_count": 54,
   "metadata": {},
   "outputs": [
    {
     "name": "stderr",
     "output_type": "stream",
     "text": [
      "encoding:   0%|          | 0/1 [00:00<?, ?it/s]You're using a XLMRobertaTokenizerFast tokenizer. Please note that with a fast tokenizer, using the `__call__` method is faster than using a method to encode the text followed by a call to the `pad` method to get a padded encoding.\n",
      "encoding: 100%|██████████| 1/1 [00:34<00:00, 34.19s/it]\n"
     ]
    },
    {
     "ename": "ValueError",
     "evalue": "Expected 2D array, got 1D array instead:\narray=[-0.04351807  0.01844788 -0.01145935 ...  0.03143311 -0.04693604\n  0.06317139].\nReshape your data either using array.reshape(-1, 1) if your data has a single feature or array.reshape(1, -1) if it contains a single sample.",
     "output_type": "error",
     "traceback": [
      "\u001b[0;31m---------------------------------------------------------------------------\u001b[0m",
      "\u001b[0;31mValueError\u001b[0m                                Traceback (most recent call last)",
      "\u001b[1;32m/Users/ruzexi/inf301/mv/DB/demo_txtebd.ipynb 单元格 9\u001b[0m line \u001b[0;36m5\n\u001b[1;32m      <a href='vscode-notebook-cell:/Users/ruzexi/inf301/mv/DB/demo_txtebd.ipynb#X11sZmlsZQ%3D%3D?line=0'>1</a>\u001b[0m Query \u001b[39m=\u001b[39m \u001b[39m\"\u001b[39m\u001b[39mIs same-sex marriage for male legal in the United States under the United States Constitution?\u001b[39m\u001b[39m\"\u001b[39m\n\u001b[1;32m      <a href='vscode-notebook-cell:/Users/ruzexi/inf301/mv/DB/demo_txtebd.ipynb#X11sZmlsZQ%3D%3D?line=1'>2</a>\u001b[0m embeddings_1 \u001b[39m=\u001b[39m model\u001b[39m.\u001b[39mencode(Query, \n\u001b[1;32m      <a href='vscode-notebook-cell:/Users/ruzexi/inf301/mv/DB/demo_txtebd.ipynb#X11sZmlsZQ%3D%3D?line=2'>3</a>\u001b[0m                             max_length\u001b[39m=\u001b[39m\u001b[39m50\u001b[39m, \u001b[39m# If you don't need such a long length, you can set a smaller value to speed up the encoding process.\u001b[39;00m\n\u001b[1;32m      <a href='vscode-notebook-cell:/Users/ruzexi/inf301/mv/DB/demo_txtebd.ipynb#X11sZmlsZQ%3D%3D?line=3'>4</a>\u001b[0m                             )[\u001b[39m'\u001b[39m\u001b[39mdense_vecs\u001b[39m\u001b[39m'\u001b[39m]\n\u001b[0;32m----> <a href='vscode-notebook-cell:/Users/ruzexi/inf301/mv/DB/demo_txtebd.ipynb#X11sZmlsZQ%3D%3D?line=4'>5</a>\u001b[0m similarity \u001b[39m=\u001b[39m cosine_similarity(embeddings_1, embedding_array) \u001b[39m#\u001b[39;00m\n\u001b[1;32m      <a href='vscode-notebook-cell:/Users/ruzexi/inf301/mv/DB/demo_txtebd.ipynb#X11sZmlsZQ%3D%3D?line=5'>6</a>\u001b[0m \u001b[39m# candidate_context = np.argsort\u001b[39;00m\n",
      "File \u001b[0;32m/Library/Frameworks/Python.framework/Versions/3.11/lib/python3.11/site-packages/sklearn/utils/_param_validation.py:213\u001b[0m, in \u001b[0;36mvalidate_params.<locals>.decorator.<locals>.wrapper\u001b[0;34m(*args, **kwargs)\u001b[0m\n\u001b[1;32m    207\u001b[0m \u001b[39mtry\u001b[39;00m:\n\u001b[1;32m    208\u001b[0m     \u001b[39mwith\u001b[39;00m config_context(\n\u001b[1;32m    209\u001b[0m         skip_parameter_validation\u001b[39m=\u001b[39m(\n\u001b[1;32m    210\u001b[0m             prefer_skip_nested_validation \u001b[39mor\u001b[39;00m global_skip_validation\n\u001b[1;32m    211\u001b[0m         )\n\u001b[1;32m    212\u001b[0m     ):\n\u001b[0;32m--> 213\u001b[0m         \u001b[39mreturn\u001b[39;00m func(\u001b[39m*\u001b[39;49margs, \u001b[39m*\u001b[39;49m\u001b[39m*\u001b[39;49mkwargs)\n\u001b[1;32m    214\u001b[0m \u001b[39mexcept\u001b[39;00m InvalidParameterError \u001b[39mas\u001b[39;00m e:\n\u001b[1;32m    215\u001b[0m     \u001b[39m# When the function is just a wrapper around an estimator, we allow\u001b[39;00m\n\u001b[1;32m    216\u001b[0m     \u001b[39m# the function to delegate validation to the estimator, but we replace\u001b[39;00m\n\u001b[1;32m    217\u001b[0m     \u001b[39m# the name of the estimator by the name of the function in the error\u001b[39;00m\n\u001b[1;32m    218\u001b[0m     \u001b[39m# message to avoid confusion.\u001b[39;00m\n\u001b[1;32m    219\u001b[0m     msg \u001b[39m=\u001b[39m re\u001b[39m.\u001b[39msub(\n\u001b[1;32m    220\u001b[0m         \u001b[39mr\u001b[39m\u001b[39m\"\u001b[39m\u001b[39mparameter of \u001b[39m\u001b[39m\\\u001b[39m\u001b[39mw+ must be\u001b[39m\u001b[39m\"\u001b[39m,\n\u001b[1;32m    221\u001b[0m         \u001b[39mf\u001b[39m\u001b[39m\"\u001b[39m\u001b[39mparameter of \u001b[39m\u001b[39m{\u001b[39;00mfunc\u001b[39m.\u001b[39m\u001b[39m__qualname__\u001b[39m\u001b[39m}\u001b[39;00m\u001b[39m must be\u001b[39m\u001b[39m\"\u001b[39m,\n\u001b[1;32m    222\u001b[0m         \u001b[39mstr\u001b[39m(e),\n\u001b[1;32m    223\u001b[0m     )\n",
      "File \u001b[0;32m/Library/Frameworks/Python.framework/Versions/3.11/lib/python3.11/site-packages/sklearn/metrics/pairwise.py:1657\u001b[0m, in \u001b[0;36mcosine_similarity\u001b[0;34m(X, Y, dense_output)\u001b[0m\n\u001b[1;32m   1613\u001b[0m \u001b[39m\u001b[39m\u001b[39m\"\"\"Compute cosine similarity between samples in X and Y.\u001b[39;00m\n\u001b[1;32m   1614\u001b[0m \n\u001b[1;32m   1615\u001b[0m \u001b[39mCosine similarity, or the cosine kernel, computes similarity as the\u001b[39;00m\n\u001b[0;32m   (...)\u001b[0m\n\u001b[1;32m   1653\u001b[0m \u001b[39m       [0.57..., 0.81...]])\u001b[39;00m\n\u001b[1;32m   1654\u001b[0m \u001b[39m\"\"\"\u001b[39;00m\n\u001b[1;32m   1655\u001b[0m \u001b[39m# to avoid recursive import\u001b[39;00m\n\u001b[0;32m-> 1657\u001b[0m X, Y \u001b[39m=\u001b[39m check_pairwise_arrays(X, Y)\n\u001b[1;32m   1659\u001b[0m X_normalized \u001b[39m=\u001b[39m normalize(X, copy\u001b[39m=\u001b[39m\u001b[39mTrue\u001b[39;00m)\n\u001b[1;32m   1660\u001b[0m \u001b[39mif\u001b[39;00m X \u001b[39mis\u001b[39;00m Y:\n",
      "File \u001b[0;32m/Library/Frameworks/Python.framework/Versions/3.11/lib/python3.11/site-packages/sklearn/metrics/pairwise.py:164\u001b[0m, in \u001b[0;36mcheck_pairwise_arrays\u001b[0;34m(X, Y, precomputed, dtype, accept_sparse, force_all_finite, copy)\u001b[0m\n\u001b[1;32m    155\u001b[0m     X \u001b[39m=\u001b[39m Y \u001b[39m=\u001b[39m check_array(\n\u001b[1;32m    156\u001b[0m         X,\n\u001b[1;32m    157\u001b[0m         accept_sparse\u001b[39m=\u001b[39maccept_sparse,\n\u001b[0;32m   (...)\u001b[0m\n\u001b[1;32m    161\u001b[0m         estimator\u001b[39m=\u001b[39mestimator,\n\u001b[1;32m    162\u001b[0m     )\n\u001b[1;32m    163\u001b[0m \u001b[39melse\u001b[39;00m:\n\u001b[0;32m--> 164\u001b[0m     X \u001b[39m=\u001b[39m check_array(\n\u001b[1;32m    165\u001b[0m         X,\n\u001b[1;32m    166\u001b[0m         accept_sparse\u001b[39m=\u001b[39;49maccept_sparse,\n\u001b[1;32m    167\u001b[0m         dtype\u001b[39m=\u001b[39;49mdtype,\n\u001b[1;32m    168\u001b[0m         copy\u001b[39m=\u001b[39;49mcopy,\n\u001b[1;32m    169\u001b[0m         force_all_finite\u001b[39m=\u001b[39;49mforce_all_finite,\n\u001b[1;32m    170\u001b[0m         estimator\u001b[39m=\u001b[39;49mestimator,\n\u001b[1;32m    171\u001b[0m     )\n\u001b[1;32m    172\u001b[0m     Y \u001b[39m=\u001b[39m check_array(\n\u001b[1;32m    173\u001b[0m         Y,\n\u001b[1;32m    174\u001b[0m         accept_sparse\u001b[39m=\u001b[39maccept_sparse,\n\u001b[0;32m   (...)\u001b[0m\n\u001b[1;32m    178\u001b[0m         estimator\u001b[39m=\u001b[39mestimator,\n\u001b[1;32m    179\u001b[0m     )\n\u001b[1;32m    181\u001b[0m \u001b[39mif\u001b[39;00m precomputed:\n",
      "File \u001b[0;32m/Library/Frameworks/Python.framework/Versions/3.11/lib/python3.11/site-packages/sklearn/utils/validation.py:989\u001b[0m, in \u001b[0;36mcheck_array\u001b[0;34m(array, accept_sparse, accept_large_sparse, dtype, order, copy, force_all_finite, ensure_2d, allow_nd, ensure_min_samples, ensure_min_features, estimator, input_name)\u001b[0m\n\u001b[1;32m    982\u001b[0m         \u001b[39melse\u001b[39;00m:\n\u001b[1;32m    983\u001b[0m             msg \u001b[39m=\u001b[39m (\n\u001b[1;32m    984\u001b[0m                 \u001b[39mf\u001b[39m\u001b[39m\"\u001b[39m\u001b[39mExpected 2D array, got 1D array instead:\u001b[39m\u001b[39m\\n\u001b[39;00m\u001b[39marray=\u001b[39m\u001b[39m{\u001b[39;00marray\u001b[39m}\u001b[39;00m\u001b[39m.\u001b[39m\u001b[39m\\n\u001b[39;00m\u001b[39m\"\u001b[39m\n\u001b[1;32m    985\u001b[0m                 \u001b[39m\"\u001b[39m\u001b[39mReshape your data either using array.reshape(-1, 1) if \u001b[39m\u001b[39m\"\u001b[39m\n\u001b[1;32m    986\u001b[0m                 \u001b[39m\"\u001b[39m\u001b[39myour data has a single feature or array.reshape(1, -1) \u001b[39m\u001b[39m\"\u001b[39m\n\u001b[1;32m    987\u001b[0m                 \u001b[39m\"\u001b[39m\u001b[39mif it contains a single sample.\u001b[39m\u001b[39m\"\u001b[39m\n\u001b[1;32m    988\u001b[0m             )\n\u001b[0;32m--> 989\u001b[0m         \u001b[39mraise\u001b[39;00m \u001b[39mValueError\u001b[39;00m(msg)\n\u001b[1;32m    991\u001b[0m \u001b[39mif\u001b[39;00m dtype_numeric \u001b[39mand\u001b[39;00m \u001b[39mhasattr\u001b[39m(array\u001b[39m.\u001b[39mdtype, \u001b[39m\"\u001b[39m\u001b[39mkind\u001b[39m\u001b[39m\"\u001b[39m) \u001b[39mand\u001b[39;00m array\u001b[39m.\u001b[39mdtype\u001b[39m.\u001b[39mkind \u001b[39min\u001b[39;00m \u001b[39m\"\u001b[39m\u001b[39mUSV\u001b[39m\u001b[39m\"\u001b[39m:\n\u001b[1;32m    992\u001b[0m     \u001b[39mraise\u001b[39;00m \u001b[39mValueError\u001b[39;00m(\n\u001b[1;32m    993\u001b[0m         \u001b[39m\"\u001b[39m\u001b[39mdtype=\u001b[39m\u001b[39m'\u001b[39m\u001b[39mnumeric\u001b[39m\u001b[39m'\u001b[39m\u001b[39m is not compatible with arrays of bytes/strings.\u001b[39m\u001b[39m\"\u001b[39m\n\u001b[1;32m    994\u001b[0m         \u001b[39m\"\u001b[39m\u001b[39mConvert your data to numeric values explicitly instead.\u001b[39m\u001b[39m\"\u001b[39m\n\u001b[1;32m    995\u001b[0m     )\n",
      "\u001b[0;31mValueError\u001b[0m: Expected 2D array, got 1D array instead:\narray=[-0.04351807  0.01844788 -0.01145935 ...  0.03143311 -0.04693604\n  0.06317139].\nReshape your data either using array.reshape(-1, 1) if your data has a single feature or array.reshape(1, -1) if it contains a single sample."
     ]
    }
   ],
   "source": [
    "Query = \"Is same-sex marriage for male legal in the United States under the United States Constitution?\"\n",
    "embeddings_1 = model.encode(Query, \n",
    "                            max_length=50, # If you don't need such a long length, you can set a smaller value to speed up the encoding process.\n",
    "                            )['dense_vecs']\n",
    "similarity = embeddings_1 @ embedding_array.T #\n",
    "# candidate_context = np.argsort"
   ]
  },
  {
   "cell_type": "code",
   "execution_count": null,
   "metadata": {},
   "outputs": [
    {
     "name": "stdout",
     "output_type": "stream",
     "text": [
      "similarity: 0.7133298164104076\n",
      "Query: Is same-sex marriage for male legal in the United States under the United States Constitution?\n",
      "==================================================================\n",
      "candidate context:  Same-sex marriage in the United States expanded from one state in 2004 to all fifty states in 2015 through various state court rulings, state legislation, direct popular votes, and federal court rulings. Same-sex marriage is also referred to as gay marriage, while the political status in which the marriages of same-sex couples and the marriages of opposite-sex couples are recognized as equal by the law is referred to as marriage equality. The fifty states each have separate marriage laws, which must adhere to rulings by the Supreme Court of the United States that recognize marriage as a fundamental right that is guaranteed by both the Due Process Clause and the Equal Protection Clause of the Fourteenth Amendment to the United States Constitution, as first established in the 1967 landmark civil rights case of \"Loving v. Virginia\".\n",
      "\n",
      "\n",
      "similarity: 0.705363955207531\n",
      "Query: Is same-sex marriage for male legal in the United States under the United States Constitution?\n",
      "==================================================================\n",
      "candidate context:  This article summarizes the same-sex marriage laws of states and similar jurisdictions in the United States. Via the case \"Obergefell v. Hodges\" on June 26, 2015, the Supreme Court of the United States legalized same-sex marriage in a decision that applies nationwide, with the possible exception of American Samoa and some tribal jurisdictions. Same-sex marriages are currently licensed and recognized in all U.S. states, District of Columbia, territories, excepting the aforementioned American Samoa and some Native American tribal jurisdictions. \n",
      "\n",
      "\n",
      "similarity: 0.663174421601525\n",
      "Query: Is same-sex marriage for male legal in the United States under the United States Constitution?\n",
      "==================================================================\n",
      "candidate context:  Same-sex marriage is legal in the U.S. state of California, and first became so on June 16, 2008, when the state began issuing marriage licenses to same-sex couples as the result of the Supreme Court of California ruling in \"In re Marriage Cases\", which found that barring same-sex couples from marriage violated the state's Constitution. The issuance of those licenses was halted during the period of November 5, 2008 through June 27, 2013 (though existing same-sex marriages continued to be valid) due to the passage of Proposition 8—a state constitutional amendment barring same-sex marriages. The granting of same-sex marriages recommenced following the United States Supreme Court decision in \"Hollingsworth v. Perry\", which restored the effect of a federal district court ruling that overturned Proposition 8 as unconstitutional.\n",
      "\n",
      "\n",
      "similarity: 0.6603474199021093\n",
      "Query: Is same-sex marriage for male legal in the United States under the United States Constitution?\n",
      "==================================================================\n",
      "candidate context:  The movement to obtain civil marriage rights and benefits for same-sex couples in the United States began in the 1970s but remained unsuccessful for over forty years. On May 17, 2004, Massachusetts became the first U.S. state and the sixth jurisdiction in the world to legalize same-sex marriage following the Supreme Judicial Court's decision six months earlier. Before nationwide legalization, same-sex marriage became legal in 36 states; 24 states by court order, 9 by legislative action, and 3 by referendum. Some states had legalized same-sex marriage by more than one of the three actions.\n",
      "\n",
      "\n",
      "similarity: 0.6468394409293978\n",
      "Query: Is same-sex marriage for male legal in the United States under the United States Constitution?\n",
      "==================================================================\n",
      "candidate context:  The United States of America is the most populous country in the world to have established same-sex marriage nationwide.\n",
      "\n",
      "\n",
      "similarity: 0.6416038185608386\n",
      "Query: Is same-sex marriage for male legal in the United States under the United States Constitution?\n",
      "==================================================================\n",
      "candidate context:  By late 2014, same-sex marriage had become legal in states that contained more than 70% of the United States population. In some jurisdictions legalization came through the action of state courts or the enactment of state legislation. More frequently it came as the result of the decisions of federal courts. On November 6, 2012, Maine, Maryland, and Washington became the first states to legalize same-sex marriage through popular vote. Same-sex marriage has been legalized in the District of Columbia and 21 Native American tribal jurisdictions as well.\n",
      "\n",
      "\n",
      "similarity: 0.64015295492527\n",
      "Query: Is same-sex marriage for male legal in the United States under the United States Constitution?\n",
      "==================================================================\n",
      "candidate context:  As of 1 January 2019, same-sex marriage is legally performed and recognized (nationwide or in some jurisdictions) in Argentina, Australia, Austria, Belgium, Brazil, Canada, Colombia, Denmark, Finland, France, Germany, Iceland, Ireland, Luxembourg, Malta, Mexico, the Netherlands, New Zealand, Norway, Portugal, South Africa, Spain, Sweden, the United Kingdom, the United States, and Uruguay. Armenia, Estonia, and Israel recognize same-sex marriages entered into elsewhere. Same-sex marriage is also due to become legal in Costa Rica and Taiwan. Furthermore, the Inter-American Court of Human Rights has issued a ruling which is expected to facilitate recognition in several countries in the Americas.\n",
      "\n",
      "\n",
      "similarity: 0.626827595252962\n",
      "Query: Is same-sex marriage for male legal in the United States under the United States Constitution?\n",
      "==================================================================\n",
      "candidate context:  Lesbian, gay, bisexual, and transgender (LGBT) rights in the United States of America have significantly progressed over time, with the majority of the progress on LGBT rights having taken place in the late 20th century and early 21st century, however they continue to vary by . Since June 26, 2003, sexual activity between consenting adults of the same sex as well as same-sex adolescents of a close age has been legal nationwide, pursuant to the U.S. Supreme Court ruling in \"Lawrence v. Texas\". , all states license and recognize marriage between same-sex couples as a result of the Supreme Court decision in \"Obergefell v. Hodges\".\n",
      "\n",
      "\n",
      "similarity: 0.6147130621764063\n",
      "Query: Is same-sex marriage for male legal in the United States under the United States Constitution?\n",
      "==================================================================\n",
      "candidate context:  Sexual activity between people of the same gender is legal but same-sex couples cannot legally marry or obtain civil partnerships. On 6 September 2018, the Supreme Court of India decriminalised homosexuality by declaring Section 377 of the Indian Penal Code unconstitutional. \n",
      "\n",
      "\n",
      "similarity: 0.590473848313195\n",
      "Query: Is same-sex marriage for male legal in the United States under the United States Constitution?\n",
      "==================================================================\n",
      "candidate context:  Within one year of receipt of the marriage license a wedding ceremony must be performed in order to have a legal union, and marriages are legal and binding throughout the United States under the Full Faith and Credit Clause, as well as most other countries.\n"
     ]
    }
   ],
   "source": [
    "similarity\n",
    "idx = np.argsort(similarity)[::-1]\n",
    "nums_candidate_context = 10\n",
    "candidate_context = []\n",
    "\n",
    "candidate_context.append({\"similarity\":similarity[idx[0]],\n",
    "                          \"Query\": Query,\n",
    "                          \"Candidate Context\":data[idx[0]]['context']})\n",
    "count = 1\n",
    "for i in idx:\n",
    "    if count == nums_candidate_context:\n",
    "        break\n",
    "    if np.isclose(similarity[i], candidate_context[-1][\"similarity\"]):\n",
    "        continue\n",
    "    \n",
    "    print(f'similarity: {candidate_context[-1][\"similarity\"]}')\n",
    "    print(f'Query: {candidate_context[-1][\"Query\"]}')\n",
    "    print(\"==================================================================\")\n",
    "    print(\"candidate context: \",candidate_context[-1][\"Candidate Context\"])\n",
    "    print('\\n')\n",
    "    count+=1\n",
    "    candidate_context.append({\"similarity\":similarity[i],\n",
    "                          \"Query\": Query,\n",
    "                          \"Candidate Context\":data[i]['context']})\n",
    " \n",
    "    \n",
    "print(f'similarity: {candidate_context[-1][\"similarity\"]}')\n",
    "print(f'Query: {candidate_context[-1][\"Query\"]}')\n",
    "print(\"==================================================================\")\n",
    "print(\"candidate context: \",candidate_context[-1][\"Candidate Context\"])\n",
    "\n"
   ]
  },
  {
   "cell_type": "code",
   "execution_count": null,
   "metadata": {},
   "outputs": [],
   "source": []
  }
 ],
 "metadata": {
  "kernelspec": {
   "display_name": "Python 3",
   "language": "python",
   "name": "python3"
  },
  "language_info": {
   "codemirror_mode": {
    "name": "ipython",
    "version": 3
   },
   "file_extension": ".py",
   "mimetype": "text/x-python",
   "name": "python",
   "nbconvert_exporter": "python",
   "pygments_lexer": "ipython3",
   "version": "3.11.4"
  }
 },
 "nbformat": 4,
 "nbformat_minor": 2
}
