{
 "cells": [
  {
   "cell_type": "markdown",
   "metadata": {},
   "source": [
    "# Data preprocessing for [MLQA](https://github.com/facebookresearch/MLQA?tab=readme-ov-file) [dataset](https://dl.fbaipublicfiles.com/MLQA/MLQA_V1.zip)"
   ]
  },
  {
   "cell_type": "code",
   "execution_count": 1,
   "metadata": {},
   "outputs": [],
   "source": [
    "import json\n",
    "import random "
   ]
  },
  {
   "cell_type": "markdown",
   "metadata": {},
   "source": [
    "# Check data architecture"
   ]
  },
  {
   "cell_type": "markdown",
   "metadata": {},
   "source": [
    "## English data"
   ]
  },
  {
   "cell_type": "code",
   "execution_count": 2,
   "metadata": {},
   "outputs": [
    {
     "name": "stdout",
     "output_type": "stream",
     "text": [
      "Level 0: version, data\n",
      "Level 1: paragraphs, title\n",
      "Level 2: context, qas\n",
      "Level 3: question, id, answers\n",
      "Level 4: text, answer_start\n"
     ]
    }
   ],
   "source": [
    "file_path = './data/MLQA/test/test-context-en-question-en.json'\n",
    "\n",
    "with open(file_path, 'r') as f:\n",
    "    data_en = json.load(f)\n",
    "\n",
    "def collect_keys(obj, depth=0, keys_per_level={}):\n",
    "    if isinstance(obj, dict):\n",
    "        if depth not in keys_per_level:\n",
    "            keys_per_level[depth] = set()\n",
    "        for k, v in obj.items():\n",
    "            keys_per_level[depth].add(k)\n",
    "            collect_keys(v, depth + 1, keys_per_level)\n",
    "    elif isinstance(obj, list):\n",
    "        for item in obj:\n",
    "            collect_keys(item, depth, keys_per_level)\n",
    "\n",
    "    return keys_per_level\n",
    "\n",
    "keys_per_level = collect_keys(data_en)\n",
    "\n",
    "for level, keys in keys_per_level.items():\n",
    "    print(f\"Level {level}: {', '.join(keys)}\")"
   ]
  },
  {
   "cell_type": "markdown",
   "metadata": {},
   "source": [
    "- version\n",
    "- data\n",
    "    - title\n",
    "    - paragraphs \n",
    "        - context \n",
    "        - qas\n",
    "            - id\n",
    "            - question\n",
    "            - answers\n",
    "                - text\n",
    "                - answer_start\n",
    "\n",
    "One paragraphs may contain multiple context, one context may have multiple qa"
   ]
  },
  {
   "cell_type": "markdown",
   "metadata": {},
   "source": [
    "```\n",
    "{'title': 'Cell culture',\n",
    " 'paragraphs': \n",
    "      [ {'context': 'An established or immortalized of the telomerase gene....',\n",
    "         'qas': \n",
    "          [{\n",
    "            'question': 'What thing composes the line?',\n",
    "            'answers': \n",
    "              [{\n",
    "                'text': 'cell', \n",
    "                'answer_start': 31\n",
    "              }],\n",
    "            'id': '037e8929e7e4d2f949ffbabd10f0f860499ff7c9'\n",
    "          }]\n",
    "        },\n",
    "        {'context': 'The 19th-century English physiologist Sydney Ringer developed salt solutions......',\n",
    "         'qas': \n",
    "          [{\n",
    "            'question': 'When did Roux remove some of his medullary plate?',\n",
    "            'answers': \n",
    "              [{\n",
    "                'text': '1885', \n",
    "                'answer_start': 232\n",
    "              }],\n",
    "            'id': '4b36724f3cbde7c287bde512ff09194cbba7f932'\n",
    "           },\n",
    "           {\n",
    "            'question': 'When were cell culture techniques significantly advanced?',\n",
    "            'answers': \n",
    "              [{\n",
    "                'text': 'the 1940s and 1950s', \n",
    "                'answer_start': 677\n",
    "              }],\n",
    "            'id': 'c8acddd587c933917a0a09a214aee83c30764a0d'\n",
    "          }]\n",
    "        }\n",
    "      ]\n",
    "}\n",
    "```"
   ]
  },
  {
   "cell_type": "markdown",
   "metadata": {},
   "source": [
    "## Add `context id` to each `context`"
   ]
  },
  {
   "cell_type": "code",
   "execution_count": 3,
   "metadata": {},
   "outputs": [
    {
     "data": {
      "text/plain": [
       "{'context': 'In 1994, five unnamed civilian contractors and the widows of contractors Walter Kasza and Robert Frost sued the USAF and the United States Environmental Protection Agency. Their suit, in which they were represented by George Washington University law professor Jonathan Turley, alleged they had been present when large quantities of unknown chemicals had been burned in open pits and trenches at Groom. Biopsies taken from the complainants were analyzed by Rutgers University biochemists, who found high levels of dioxin, dibenzofuran, and trichloroethylene in their body fat. The complainants alleged they had sustained skin, liver, and respiratory injuries due to their work at Groom, and that this had contributed to the deaths of Frost and Kasza. The suit sought compensation for the injuries they had sustained, claiming the USAF had illegally handled toxic materials, and that the EPA had failed in its duty to enforce the Resource Conservation and Recovery Act (which governs handling of dangerous materials). They also sought detailed information about the chemicals to which they were allegedly exposed, hoping this would facilitate the medical treatment of survivors. Congressman Lee H. Hamilton, former chairman of the House Intelligence Committee, told 60 Minutes reporter Lesley Stahl, \"The Air Force is classifying all information about Area 51 in order to protect themselves from a lawsuit.\"',\n",
       " 'qas': [{'question': 'Who analyzed the biopsies?',\n",
       "   'answers': [{'text': 'Rutgers University biochemists',\n",
       "     'answer_start': 457}],\n",
       "   'id': 'a4968ca8a18de16aa3859be760e43dbd3af3fce9',\n",
       "   'context_id': 0},\n",
       "  {'question': 'who represented robert frost and walter kasza in their suit?',\n",
       "   'answers': [{'text': 'George Washington University law professor Jonathan Turley',\n",
       "     'answer_start': 218}],\n",
       "   'id': 'f251ea56c4f1aa1df270137f7e6d89c0cc1b6ef4',\n",
       "   'context_id': 0},\n",
       "  {'question': 'What was the law suit against Groom about',\n",
       "   'answers': [{'text': 'the USAF had illegally handled toxic materials, and that the EPA had failed in its duty to enforce the Resource Conservation and Recovery Act (which governs handling of dangerous materials)',\n",
       "     'answer_start': 826}],\n",
       "   'id': '04ecd5555635bc05fd2f379d1b9027edd663cebf',\n",
       "   'context_id': 0},\n",
       "  {'question': 'what did the complainants alleged happen to them?',\n",
       "   'answers': [{'text': 'had sustained skin, liver, and respiratory injuries',\n",
       "     'answer_start': 607}],\n",
       "   'id': 'd066a75dbe8cd3e2b57c415a8eb54a08dc7e72a7',\n",
       "   'context_id': 0}],\n",
       " 'context_id': 0}"
      ]
     },
     "execution_count": 3,
     "metadata": {},
     "output_type": "execute_result"
    }
   ],
   "source": [
    "context_id = 0\n",
    "for article in data_en[\"data\"]:\n",
    "    for paragraph in article[\"paragraphs\"]:\n",
    "        paragraph[\"context_id\"] = context_id\n",
    "        for qa in paragraph[\"qas\"]:\n",
    "            qa[\"context_id\"] = context_id\n",
    "        context_id += 1\n",
    "\n",
    "data_en[\"data\"][0][\"paragraphs\"][0] "
   ]
  },
  {
   "cell_type": "code",
   "execution_count": 4,
   "metadata": {},
   "outputs": [],
   "source": [
    "all_contexts_en = []\n",
    "all_qas_en = []\n",
    "\n",
    "for item in data_en[\"data\"]:\n",
    "    for paragraph in item[\"paragraphs\"]:\n",
    "        all_contexts_en.append(paragraph[\"context\"])\n",
    "        all_qas_en.extend(paragraph[\"qas\"])"
   ]
  },
  {
   "cell_type": "code",
   "execution_count": 5,
   "metadata": {},
   "outputs": [
    {
     "data": {
      "text/plain": [
       "('In 1994, five unnamed civilian contractors and the widows of contractors Walter Kasza and Robert Frost sued the USAF and the United States Environmental Protection Agency. Their suit, in which they were represented by George Washington University law professor Jonathan Turley, alleged they had been present when large quantities of unknown chemicals had been burned in open pits and trenches at Groom. Biopsies taken from the complainants were analyzed by Rutgers University biochemists, who found high levels of dioxin, dibenzofuran, and trichloroethylene in their body fat. The complainants alleged they had sustained skin, liver, and respiratory injuries due to their work at Groom, and that this had contributed to the deaths of Frost and Kasza. The suit sought compensation for the injuries they had sustained, claiming the USAF had illegally handled toxic materials, and that the EPA had failed in its duty to enforce the Resource Conservation and Recovery Act (which governs handling of dangerous materials). They also sought detailed information about the chemicals to which they were allegedly exposed, hoping this would facilitate the medical treatment of survivors. Congressman Lee H. Hamilton, former chairman of the House Intelligence Committee, told 60 Minutes reporter Lesley Stahl, \"The Air Force is classifying all information about Area 51 in order to protect themselves from a lawsuit.\"',\n",
       " {'question': 'Who analyzed the biopsies?',\n",
       "  'answers': [{'text': 'Rutgers University biochemists', 'answer_start': 457}],\n",
       "  'id': 'a4968ca8a18de16aa3859be760e43dbd3af3fce9',\n",
       "  'context_id': 0})"
      ]
     },
     "execution_count": 5,
     "metadata": {},
     "output_type": "execute_result"
    }
   ],
   "source": [
    "all_contexts_en[0], all_qas_en[0]\n",
    "# print(json.dumps(all_qas_en, indent=2))"
   ]
  },
  {
   "cell_type": "code",
   "execution_count": 6,
   "metadata": {},
   "outputs": [
    {
     "name": "stdout",
     "output_type": "stream",
     "text": [
      "For English data:\n",
      "\tNumber of Contexts: 9916\n",
      "\tNumber of QA pairs: 11590\n"
     ]
    }
   ],
   "source": [
    "print(f\"For English data:\\n\\tNumber of Contexts: {len(all_contexts_en)}\")\n",
    "print(f\"\\tNumber of QA pairs: {len(all_qas_en)}\")"
   ]
  },
  {
   "cell_type": "markdown",
   "metadata": {},
   "source": [
    "## Chinese data"
   ]
  },
  {
   "cell_type": "code",
   "execution_count": 7,
   "metadata": {},
   "outputs": [
    {
     "name": "stdout",
     "output_type": "stream",
     "text": [
      "Level 0: version, data\n",
      "Level 1: paragraphs, title\n",
      "Level 2: context, qas\n",
      "Level 3: question, id, answers\n",
      "Level 4: text, answer_start\n"
     ]
    }
   ],
   "source": [
    "file_path = './data/MLQA/test/test-context-zh-question-zh.json'\n",
    "\n",
    "with open(file_path, 'r') as f:\n",
    "    data_zh = json.load(f)\n",
    "\n",
    "# print(f\"Total num: {len(data_zh)}\")\n",
    "# data_zh\n",
    "    \n",
    "keys_per_level = collect_keys(data_zh)\n",
    "for level, keys in keys_per_level.items():\n",
    "    print(f\"Level {level}: {', '.join(keys)}\")"
   ]
  },
  {
   "cell_type": "code",
   "execution_count": 8,
   "metadata": {},
   "outputs": [
    {
     "data": {
      "text/plain": [
       "{'context': '在电路学里，电动势（英语：electromotive force，缩写为emf）表征一些电路元件供应电能的特性。这些电路元件称为「电动势源」。电化电池、太阳能电池、燃料电池、热电装置、发电机等等，都是电动势源。电动势源所供应的能量每单位电荷是其电动势。假设，电荷',\n",
       " 'qas': [{'question': '各电化电池都能提供电动势？',\n",
       "   'answers': [{'text': '电化电池', 'answer_start': 71}],\n",
       "   'id': '465f3fb044b5c50a78a2e2f9bc94c424d1f7d039',\n",
       "   'context_id': 0}],\n",
       " 'context_id': 0}"
      ]
     },
     "execution_count": 8,
     "metadata": {},
     "output_type": "execute_result"
    }
   ],
   "source": [
    "context_id = 0\n",
    "for article in data_zh[\"data\"]:\n",
    "    for paragraph in article[\"paragraphs\"]:\n",
    "        paragraph[\"context_id\"] = context_id\n",
    "        for qa in paragraph[\"qas\"]:\n",
    "            qa[\"context_id\"] = context_id\n",
    "        context_id += 1\n",
    "\n",
    "data_zh[\"data\"][0][\"paragraphs\"][0] "
   ]
  },
  {
   "cell_type": "code",
   "execution_count": 9,
   "metadata": {},
   "outputs": [],
   "source": [
    "all_contexts_zh = []\n",
    "all_qas_zh = []\n",
    "\n",
    "for item in data_zh[\"data\"]:\n",
    "    for paragraph in item[\"paragraphs\"]:\n",
    "        all_contexts_zh.append(paragraph[\"context\"])\n",
    "        all_qas_zh.extend(paragraph[\"qas\"])"
   ]
  },
  {
   "cell_type": "code",
   "execution_count": 10,
   "metadata": {},
   "outputs": [
    {
     "data": {
      "text/plain": [
       "('在电路学里，电动势（英语：electromotive force，缩写为emf）表征一些电路元件供应电能的特性。这些电路元件称为「电动势源」。电化电池、太阳能电池、燃料电池、热电装置、发电机等等，都是电动势源。电动势源所供应的能量每单位电荷是其电动势。假设，电荷',\n",
       " {'question': '各电化电池都能提供电动势？',\n",
       "  'answers': [{'text': '电化电池', 'answer_start': 71}],\n",
       "  'id': '465f3fb044b5c50a78a2e2f9bc94c424d1f7d039',\n",
       "  'context_id': 0})"
      ]
     },
     "execution_count": 10,
     "metadata": {},
     "output_type": "execute_result"
    }
   ],
   "source": [
    "all_contexts_zh[0], all_qas_zh[0]\n",
    "# print(json.dumps(all_qas_zh, indent=2))"
   ]
  },
  {
   "cell_type": "code",
   "execution_count": 11,
   "metadata": {},
   "outputs": [
    {
     "name": "stdout",
     "output_type": "stream",
     "text": [
      "For Chinese data:\n",
      "\tNumber of Contexts: 4546\n",
      "\tNumber of QA pairs: 5137\n"
     ]
    }
   ],
   "source": [
    "print(f\"For Chinese data:\\n\\tNumber of Contexts: {len(all_contexts_zh)}\")\n",
    "print(f\"\\tNumber of QA pairs: {len(all_qas_zh)}\")"
   ]
  },
  {
   "cell_type": "markdown",
   "metadata": {},
   "source": [
    "## Check if all zh data overlap with en data"
   ]
  },
  {
   "cell_type": "code",
   "execution_count": 12,
   "metadata": {},
   "outputs": [
    {
     "data": {
      "text/plain": [
       "(11590, 5137)"
      ]
     },
     "execution_count": 12,
     "metadata": {},
     "output_type": "execute_result"
    }
   ],
   "source": [
    "ids_en = [item['id'] for item in all_qas_en]\n",
    "ids_zh = [item['id'] for item in all_qas_zh]\n",
    "len(ids_en), len(ids_zh)"
   ]
  },
  {
   "cell_type": "code",
   "execution_count": 13,
   "metadata": {},
   "outputs": [
    {
     "data": {
      "text/plain": [
       "5137"
      ]
     },
     "execution_count": 13,
     "metadata": {},
     "output_type": "execute_result"
    }
   ],
   "source": [
    "count = 0\n",
    "for id in ids_zh:\n",
    "    if id in ids_en:\n",
    "        count+=1\n",
    "count"
   ]
  },
  {
   "cell_type": "markdown",
   "metadata": {},
   "source": [
    "```\n",
    "Summary：\n",
    "\n",
    "1.Dataset architecture：\n",
    "- version\n",
    "- data\n",
    "    - title\n",
    "    - paragraphs \n",
    "        - context \n",
    "        - qas\n",
    "            - id\n",
    "            - question\n",
    "            - answers\n",
    "                - text\n",
    "                - answer_start\n",
    "\n",
    "One paragraphs may contain multiple context, one context may have multiple qa\n",
    "\n",
    "For English data:\n",
    "\tNumber of Contexts: 9916\n",
    "\tNumber of QA pairs: 11590\n",
    "\n",
    "For Chinese data:\n",
    "\tNumber of Contexts: 4546\n",
    "\tNumber of QA pairs: 5137\n",
    "\n",
    "All 5137 Chinese QAs can be matched to the English dataset by their IDs.\n",
    "```"
   ]
  },
  {
   "cell_type": "markdown",
   "metadata": {},
   "source": [
    "# Check data quality"
   ]
  },
  {
   "cell_type": "markdown",
   "metadata": {},
   "source": [
    "## Manual check of the quality of QA data"
   ]
  },
  {
   "cell_type": "code",
   "execution_count": 14,
   "metadata": {},
   "outputs": [
    {
     "data": {
      "text/plain": [
       "{'title': '美洲水鼬',\n",
       " 'paragraphs': [{'context': '美洲水鼬（学名：Neovison vison，英语： American mink）是鼬科的一个半水栖物种，原产自北美洲，但由于人类的活动，其分布范围已经扩张至欧洲、南美洲的诸多地区。由于分布范围较广，美洲水鼬被国际自然保护联盟认定为无危物种。 自从海貂绝种以来，美洲水鼬成为水鼬属唯一一个现存的物种。美洲水鼬是一种肉食动物，进食大鼠、鱼类、 甲壳动物、蛙类和鸟类。在欧洲，由于是外来物种，它已经被归类为入侵物种——人们认为它与欧洲水鼬、比利牛斯鼬鼹和水䶄种群数量的减少有着直接的关系。此外，美洲水鼬也经常被人为饲养以取其毛皮。它是世界上最常见的生产毛皮的动物，在经济活动中的重要性超过了银狐、紫貂、貂属和臭鼬。',\n",
       "   'qas': [{'question': '美洲水鼬以什么为食？',\n",
       "     'answers': [{'text': '大鼠、鱼类、 甲壳动物、蛙类和鸟类', 'answer_start': 164}],\n",
       "     'id': 'd5fefdb71fa18739d95edb69d76c690594ff3a4d',\n",
       "     'context_id': 1427},\n",
       "    {'question': '为什么美国鼬现在在欧洲出现了？',\n",
       "     'answers': [{'text': 'American mink）是鼬科的一个半水栖物种，原产自北美洲，但由于人类的活动，其分布范围已经扩张至欧洲、南美洲的诸多地区。',\n",
       "       'answer_start': 27}],\n",
       "     'id': '2bcab480460c1f37b0f1d867fa238a8b516b89b5',\n",
       "     'context_id': 1427}],\n",
       "   'context_id': 1427}]}"
      ]
     },
     "execution_count": 14,
     "metadata": {},
     "output_type": "execute_result"
    }
   ],
   "source": [
    "data_zh['data'][random.randint(0,2429)]"
   ]
  },
  {
   "cell_type": "markdown",
   "metadata": {},
   "source": [
    "```\n",
    "# Mark 1 for an incorrect answer, 0 for correct.\n",
    "10000,00000\n",
    "00000,00000\n",
    "10100,10000\n",
    "00000,00000\n",
    "00100,00000\n",
    "\n",
    "error rate: 0.1%\n",
    "\n",
    "{'title': '赤色黎明',\n",
    " 'paragraphs': [{'context': '《赤色黎明》（英语：Red Dawn）是由丹·布拉德利执导的一部2012年美国战争片。剧本由卡尔·埃尔斯沃斯和杰里米·帕斯（Jeremy Passmore）改编自1984年同名电影。演员阵容有克里斯·海姆斯沃斯、乔希·佩克、乔什·哈切森、阿德琳妮·帕里奇、伊莎贝尔·卢卡斯、康纳·克鲁斯和杰弗里·迪恩·摩根。影片聚焦于一群帮助家乡抵御北朝鲜入侵的年轻人。',\n",
    "   'qas': [{'question': '他们想保卫哪个国家？',\n",
    "     'answers': [{'text': '北朝鲜', 'answer_start': 167}],\n",
    "     'id': 'd221b071d496de0aa07a11addfa5202f30edaa4c'}]}]}\n",
    "```"
   ]
  },
  {
   "cell_type": "markdown",
   "metadata": {},
   "source": [
    "## Add `title` to each `question` & `context`\n",
    "Since the data was categorised by different topics(titles), it would result in questions that were too broad and confusing when used randomly. So the headings were added to each question to increase its readability."
   ]
  },
  {
   "cell_type": "code",
   "execution_count": 15,
   "metadata": {},
   "outputs": [
    {
     "data": {
      "text/plain": [
       "[{'question': 'Who analyzed the biopsies?',\n",
       "  'answers': [{'text': 'Rutgers University biochemists', 'answer_start': 457}],\n",
       "  'id': 'a4968ca8a18de16aa3859be760e43dbd3af3fce9',\n",
       "  'context_id': 0},\n",
       " {'question': 'who represented robert frost and walter kasza in their suit?',\n",
       "  'answers': [{'text': 'George Washington University law professor Jonathan Turley',\n",
       "    'answer_start': 218}],\n",
       "  'id': 'f251ea56c4f1aa1df270137f7e6d89c0cc1b6ef4',\n",
       "  'context_id': 0},\n",
       " {'question': 'What was the law suit against Groom about',\n",
       "  'answers': [{'text': 'the USAF had illegally handled toxic materials, and that the EPA had failed in its duty to enforce the Resource Conservation and Recovery Act (which governs handling of dangerous materials)',\n",
       "    'answer_start': 826}],\n",
       "  'id': '04ecd5555635bc05fd2f379d1b9027edd663cebf',\n",
       "  'context_id': 0},\n",
       " {'question': 'what did the complainants alleged happen to them?',\n",
       "  'answers': [{'text': 'had sustained skin, liver, and respiratory injuries',\n",
       "    'answer_start': 607}],\n",
       "  'id': 'd066a75dbe8cd3e2b57c415a8eb54a08dc7e72a7',\n",
       "  'context_id': 0},\n",
       " {'question': 'When was the aerospace magazine article published?',\n",
       "  'answers': [{'text': 'January 2006', 'answer_start': 3}],\n",
       "  'id': 'c5f545baccd8ea8adb83f75756f4832340600bd9',\n",
       "  'context_id': 1}]"
      ]
     },
     "execution_count": 15,
     "metadata": {},
     "output_type": "execute_result"
    }
   ],
   "source": [
    "all_qas_en[:5]"
   ]
  },
  {
   "cell_type": "code",
   "execution_count": 16,
   "metadata": {},
   "outputs": [
    {
     "data": {
      "text/plain": [
       "[{'question': 'Who analyzed the biopsies?',\n",
       "  'answers': [{'text': 'Rutgers University biochemists', 'answer_start': 457}],\n",
       "  'id': 'a4968ca8a18de16aa3859be760e43dbd3af3fce9',\n",
       "  'context_id': 0,\n",
       "  'title': 'Area 51'},\n",
       " {'question': 'who represented robert frost and walter kasza in their suit?',\n",
       "  'answers': [{'text': 'George Washington University law professor Jonathan Turley',\n",
       "    'answer_start': 218}],\n",
       "  'id': 'f251ea56c4f1aa1df270137f7e6d89c0cc1b6ef4',\n",
       "  'context_id': 0,\n",
       "  'title': 'Area 51'},\n",
       " {'question': 'What was the law suit against Groom about',\n",
       "  'answers': [{'text': 'the USAF had illegally handled toxic materials, and that the EPA had failed in its duty to enforce the Resource Conservation and Recovery Act (which governs handling of dangerous materials)',\n",
       "    'answer_start': 826}],\n",
       "  'id': '04ecd5555635bc05fd2f379d1b9027edd663cebf',\n",
       "  'context_id': 0,\n",
       "  'title': 'Area 51'},\n",
       " {'question': 'what did the complainants alleged happen to them?',\n",
       "  'answers': [{'text': 'had sustained skin, liver, and respiratory injuries',\n",
       "    'answer_start': 607}],\n",
       "  'id': 'd066a75dbe8cd3e2b57c415a8eb54a08dc7e72a7',\n",
       "  'context_id': 0,\n",
       "  'title': 'Area 51'},\n",
       " {'question': 'When was the aerospace magazine article published?',\n",
       "  'answers': [{'text': 'January 2006', 'answer_start': 3}],\n",
       "  'id': 'c5f545baccd8ea8adb83f75756f4832340600bd9',\n",
       "  'context_id': 1,\n",
       "  'title': 'Area 51'}]"
      ]
     },
     "execution_count": 16,
     "metadata": {},
     "output_type": "execute_result"
    }
   ],
   "source": [
    "qas_with_title_en = []\n",
    "\n",
    "for item in data_en[\"data\"]:\n",
    "    title = item[\"title\"] \n",
    "    for paragraph in item[\"paragraphs\"]:\n",
    "        for qa in paragraph[\"qas\"]:\n",
    "            ''' Add title to each corresponding question '''\n",
    "            # qa['question'] = f\"{title}: {qa['question']}\" \n",
    "            ''' Or use `title` as a new key '''\n",
    "            qa['title'] = title\n",
    "            qas_with_title_en.append(qa)  \n",
    "\n",
    "# print(json.dumps(qas_with_title_en, indent=2))\n",
    "assert len(qas_with_title_en) == len(all_qas_en)\n",
    "qas_with_title_en[:5]"
   ]
  },
  {
   "cell_type": "code",
   "execution_count": 17,
   "metadata": {},
   "outputs": [
    {
     "data": {
      "text/plain": [
       "[{'question': '各电化电池都能提供电动势？',\n",
       "  'answers': [{'text': '电化电池', 'answer_start': 71}],\n",
       "  'id': '465f3fb044b5c50a78a2e2f9bc94c424d1f7d039',\n",
       "  'context_id': 0},\n",
       " {'question': '哪水体有助土地如此多产？',\n",
       "  'answers': [{'text': '楚河', 'answer_start': 36}],\n",
       "  'id': '1aee17dd937cc1043e3ff47c38396541fc3409e5',\n",
       "  'context_id': 1},\n",
       " {'question': '它用来写什么类型的记录？',\n",
       "  'answers': [{'text': '法律、行政和私人记录', 'answer_start': 90}],\n",
       "  'id': 'c1100f360fed1386068a5dc584b875cc9aefb60a',\n",
       "  'context_id': 2},\n",
       " {'question': '在哪帝国期间凯提文广受使用？',\n",
       "  'answers': [{'text': '莫卧儿帝国期间', 'answer_start': 28}],\n",
       "  'id': '89325aff92794352bde6c064b6160e601aed56b6',\n",
       "  'context_id': 3},\n",
       " {'question': '爱丽丝怎样恢复她原来的身高？',\n",
       "  'answers': [{'text': '经过一番努力', 'answer_start': 224}],\n",
       "  'id': '9fd571d90b8081f45cfd263c961c131c257634c2',\n",
       "  'context_id': 4}]"
      ]
     },
     "execution_count": 17,
     "metadata": {},
     "output_type": "execute_result"
    }
   ],
   "source": [
    "all_qas_zh[:5]"
   ]
  },
  {
   "cell_type": "code",
   "execution_count": 18,
   "metadata": {},
   "outputs": [
    {
     "data": {
      "text/plain": [
       "[{'question': '各电化电池都能提供电动势？',\n",
       "  'answers': [{'text': '电化电池', 'answer_start': 71}],\n",
       "  'id': '465f3fb044b5c50a78a2e2f9bc94c424d1f7d039',\n",
       "  'context_id': 0,\n",
       "  'title': '電動勢'},\n",
       " {'question': '哪水体有助土地如此多产？',\n",
       "  'answers': [{'text': '楚河', 'answer_start': 36}],\n",
       "  'id': '1aee17dd937cc1043e3ff47c38396541fc3409e5',\n",
       "  'context_id': 1,\n",
       "  'title': '楚河州'},\n",
       " {'question': '它用来写什么类型的记录？',\n",
       "  'answers': [{'text': '法律、行政和私人记录', 'answer_start': 90}],\n",
       "  'id': 'c1100f360fed1386068a5dc584b875cc9aefb60a',\n",
       "  'context_id': 2,\n",
       "  'title': '凱提文'},\n",
       " {'question': '在哪帝国期间凯提文广受使用？',\n",
       "  'answers': [{'text': '莫卧儿帝国期间', 'answer_start': 28}],\n",
       "  'id': '89325aff92794352bde6c064b6160e601aed56b6',\n",
       "  'context_id': 3,\n",
       "  'title': '凱提文'},\n",
       " {'question': '爱丽丝怎样恢复她原来的身高？',\n",
       "  'answers': [{'text': '经过一番努力', 'answer_start': 224}],\n",
       "  'id': '9fd571d90b8081f45cfd263c961c131c257634c2',\n",
       "  'context_id': 4,\n",
       "  'title': '爱丽丝梦游仙境'}]"
      ]
     },
     "execution_count": 18,
     "metadata": {},
     "output_type": "execute_result"
    }
   ],
   "source": [
    "qas_with_title_zh = []\n",
    "\n",
    "for item in data_zh[\"data\"]:\n",
    "    title = item[\"title\"] \n",
    "    for paragraph in item[\"paragraphs\"]:\n",
    "        for qa in paragraph[\"qas\"]:\n",
    "            ''' Add title to each corresponding question '''\n",
    "            # qa['question'] = f\"{title}: {qa['question']}\" \n",
    "            ''' Or use `title` as a new key '''\n",
    "            qa['title'] = title\n",
    "            qas_with_title_zh.append(qa)  \n",
    "            \n",
    "# print(json.dumps(qas_with_title_zh, indent=2))\n",
    "assert len(qas_with_title_zh) == len(all_qas_zh)\n",
    "qas_with_title_zh[:5]"
   ]
  },
  {
   "cell_type": "markdown",
   "metadata": {},
   "source": [
    "**Add `id` and `title` to `Context`**\n",
    "\n",
    "English"
   ]
  },
  {
   "cell_type": "code",
   "execution_count": 19,
   "metadata": {},
   "outputs": [
    {
     "name": "stdout",
     "output_type": "stream",
     "text": [
      "Total= 9916\n"
     ]
    },
    {
     "data": {
      "text/plain": [
       "[{'id': 0,\n",
       "  'title': 'Area 51',\n",
       "  'context': 'In 1994, five unnamed civilian contractors and the widows of contractors Walter Kasza and Robert Frost sued the USAF and the United States Environmental Protection Agency. Their suit, in which they were represented by George Washington University law professor Jonathan Turley, alleged they had been present when large quantities of unknown chemicals had been burned in open pits and trenches at Groom. Biopsies taken from the complainants were analyzed by Rutgers University biochemists, who found high levels of dioxin, dibenzofuran, and trichloroethylene in their body fat. The complainants alleged they had sustained skin, liver, and respiratory injuries due to their work at Groom, and that this had contributed to the deaths of Frost and Kasza. The suit sought compensation for the injuries they had sustained, claiming the USAF had illegally handled toxic materials, and that the EPA had failed in its duty to enforce the Resource Conservation and Recovery Act (which governs handling of dangerous materials). They also sought detailed information about the chemicals to which they were allegedly exposed, hoping this would facilitate the medical treatment of survivors. Congressman Lee H. Hamilton, former chairman of the House Intelligence Committee, told 60 Minutes reporter Lesley Stahl, \"The Air Force is classifying all information about Area 51 in order to protect themselves from a lawsuit.\"'},\n",
       " {'id': 1,\n",
       "  'title': 'Area 51',\n",
       "  'context': 'In January 2006, space historian Dwayne A. Day published an article in online aerospace magazine The Space Review titled \"Astronauts and Area 51: the Skylab Incident\". The article was based on a memo written in 1974 to CIA director William Colby by an unknown CIA official. The memo reported that astronauts on board Skylab 4 had, as part of a larger program, inadvertently photographed a location of which the memo said:'},\n",
       " {'id': 2,\n",
       "  'title': 'Area 51',\n",
       "  'context': 'Its secretive nature and undoubted connection to classified aircraft research, together with reports of unusual phenomena, have led Area 51 to become a focus of modern UFO and other conspiracy theories. Some of the activities mentioned in such theories at Area 51 include:'},\n",
       " {'id': 3,\n",
       "  'title': 'Area 51',\n",
       "  'context': 'The USGS topographic map for the area only shows the long-disused Groom Mine. A civil aviation chart published by the Nevada Department of Transportation shows a large restricted area, defined as part of the Nellis restricted airspace. The National Atlas page showing federal lands in Nevada shows the area as lying within the Nellis Air Force Base. Higher resolution (and more recent) images from other satellite imagery providers (including Russian providers and the IKONOS) are commercially available. These show the runway markings, base facilities, aircraft, and vehicles.'},\n",
       " {'id': 4,\n",
       "  'title': 'Area 51',\n",
       "  'context': 'The amount of information the United States government has been willing to provide regarding Area 51 has generally been minimal. The area surrounding the lake is permanently off-limits to both civilian and normal military air traffic. Security clearances are checked regularly; cameras and weaponry are not allowed. Even military pilots training in the NAFR risk disciplinary action if they stray into the exclusionary \"box\" surrounding Groom\\'s airspace. Surveillance is supplemented using buried motion sensors. Area 51 is a common destination for Janet, the de facto name of a small fleet of passenger aircraft operated on behalf of the United States Air Force to transport military personnel, primarily from McCarran International Airport.'}]"
      ]
     },
     "execution_count": 19,
     "metadata": {},
     "output_type": "execute_result"
    }
   ],
   "source": [
    "all_contexts_with_idTitle_en = []\n",
    "context_id = 0\n",
    "for item in data_en[\"data\"]:\n",
    "    title = item[\"title\"] \n",
    "    for paragraph in item[\"paragraphs\"]:\n",
    "        all_contexts_with_idTitle_en.append({\"id\": context_id, \"title\": title, \"context\": paragraph[\"context\"]})\n",
    "        context_id += 1\n",
    "        \n",
    "print(\"Total=\",len(all_contexts_with_idTitle_en))\n",
    "all_contexts_with_idTitle_en[:5]"
   ]
  },
  {
   "cell_type": "markdown",
   "metadata": {},
   "source": [
    "Chinese"
   ]
  },
  {
   "cell_type": "code",
   "execution_count": 20,
   "metadata": {},
   "outputs": [
    {
     "data": {
      "text/plain": [
       "[{'id': 0,\n",
       "  'title': '電動勢',\n",
       "  'context': '在电路学里，电动势（英语：electromotive force，缩写为emf）表征一些电路元件供应电能的特性。这些电路元件称为「电动势源」。电化电池、太阳能电池、燃料电池、热电装置、发电机等等，都是电动势源。电动势源所供应的能量每单位电荷是其电动势。假设，电荷'},\n",
       " {'id': 1,\n",
       "  'title': '楚河州',\n",
       "  'context': '楚河州包括有整个楚河河谷及邻近的山脉与峡谷。河谷的黑土非常肥沃，而且被从楚河引来的河水灌溉着。当地的农业生产计有：小麦、玉蜀黍、甜菜、马铃薯、紫花苜蓿及各种不同品种的蔬菜及水果。在苏联统治期间，省内有不少农产品加工及其他工业，使省内涌现多个新市镇，如：托克马克、坎特（Kant）及卡拉巴尔塔（Kara-Balta）等。相对于国内其他省份，本州的人口成份比较复杂，计有：俄罗斯人、乌克兰人、东干人（中国回民的后裔）、朝鲜人及德国人等。'},\n",
       " {'id': 2,\n",
       "  'title': '凱提文',\n",
       "  'context': '凯提文(Kaithi，कैथी)，也叫做Kayathi或Kayasthi，是历史上的一种文字，曾广泛用于北印度，主要是以前的西北行省和Oudh（今天的北方邦）和比哈尔。它曾用于书写法律、行政和私人记录。Unicode技术委员会已经接受了在Unicode标准中编码凯提文的提案，范围是U+11080-110CF。'},\n",
       " {'id': 3,\n",
       "  'title': '凱提文',\n",
       "  'context': '用凯提文记录的文档可追溯到至少16世纪。这种文字广泛用在莫卧儿帝国期间。在1880年代英属印度期间，这种文字被认可为比哈尔邦法庭上的官方文字。尽管一般而言凯提文曾在某些地区比城文更加广泛使用，它现在已经失去了竞争力。'},\n",
       " {'id': 4,\n",
       "  'title': '爱丽丝梦游仙境',\n",
       "  'context': '第五章：毛毛虫的建议（Advice from a Caterpillar）爱丽丝见到一棵蘑菇，上面坐著一条蓝色的毛虫。他抽著水烟，向爱丽丝探问起来。爱丽丝回应他，自己正在个性转变期之中，时常心绪不宁，她甚至连一首诗都记不起来。毛虫离开之前，告诉了她蘑菇的秘密：吃其中一半会使她变高，吃另一半会使她变矮。于是，她把蘑菇一分为二，果然，吃其中一半使她矮小无比，吃另一半则令她的脖子增长。她的脑袋直达树丛之中，树上的鸽子甚至误以为她长长的脖子是一条毒蛇。经过一番努力，爱丽丝终于恢复原来的身高。她蹒跚地走，偶然进入了一个小庄园。同时，她又利用蘑菇调校最适合的身高。'}]"
      ]
     },
     "execution_count": 20,
     "metadata": {},
     "output_type": "execute_result"
    }
   ],
   "source": [
    "all_contexts_with_idTitle_zh = []\n",
    "context_id = 0\n",
    "for item in data_zh[\"data\"]:\n",
    "    title = item[\"title\"] \n",
    "    for paragraph in item[\"paragraphs\"]:\n",
    "        all_contexts_with_idTitle_zh.append({\"id\": context_id, \"title\": title, \"context\": paragraph[\"context\"]})\n",
    "        context_id += 1\n",
    "        \n",
    "all_contexts_with_idTitle_zh[:5]"
   ]
  },
  {
   "cell_type": "markdown",
   "metadata": {},
   "source": [
    "# Output data"
   ]
  },
  {
   "cell_type": "code",
   "execution_count": 21,
   "metadata": {},
   "outputs": [],
   "source": [
    "with open('./data/Context_EN.json', 'w') as file:\n",
    "    json.dump(all_contexts_with_idTitle_en, file, indent=2)\n",
    "\n",
    "with open('./data/Context_ZH.json', 'w') as file:\n",
    "    json.dump(all_contexts_with_idTitle_zh, file, indent=2)"
   ]
  },
  {
   "cell_type": "code",
   "execution_count": 22,
   "metadata": {},
   "outputs": [],
   "source": [
    "with open('./data/QA_EN.json', 'w') as file:\n",
    "    json.dump(qas_with_title_en, file, indent=2)\n",
    "\n",
    "with open('./data/QA_ZH.json', 'w') as file:\n",
    "    json.dump(qas_with_title_zh, file, indent=2)"
   ]
  }
 ],
 "metadata": {
  "kernelspec": {
   "display_name": "NLP",
   "language": "python",
   "name": "python3"
  },
  "language_info": {
   "codemirror_mode": {
    "name": "ipython",
    "version": 3
   },
   "file_extension": ".py",
   "mimetype": "text/x-python",
   "name": "python",
   "nbconvert_exporter": "python",
   "pygments_lexer": "ipython3",
   "version": "3.11.7"
  }
 },
 "nbformat": 4,
 "nbformat_minor": 2
}
