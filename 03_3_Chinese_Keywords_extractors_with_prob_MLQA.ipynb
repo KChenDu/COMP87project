{
 "cells": [
  {
   "cell_type": "markdown",
   "metadata": {},
   "source": [
    "# MLQA Extract `Chinese` Keywords (Query/Context)"
   ]
  },
  {
   "cell_type": "code",
   "execution_count": 1,
   "metadata": {},
   "outputs": [],
   "source": [
    "import re\n",
    "import os, sys\n",
    "import json\n",
    "import numpy as np\n",
    "from tqdm.auto import tqdm\n",
    "from IPython.display import clear_output\n",
    "from contextlib import contextmanager\n",
    "\n",
    "# https://pypi.org/project/chinese-keybert/\n",
    "from chinese_keybert import Chinese_Extractor\n",
    "\n",
    "import jieba\n",
    "import jieba.analyse"
   ]
  },
  {
   "cell_type": "markdown",
   "metadata": {},
   "source": [
    "## Keywords for `Context`"
   ]
  },
  {
   "cell_type": "code",
   "execution_count": 2,
   "metadata": {},
   "outputs": [
    {
     "name": "stdout",
     "output_type": "stream",
     "text": [
      "Total num: 4538\n"
     ]
    },
    {
     "data": {
      "text/plain": [
       "[{'id': 0,\n",
       "  'title': '電動勢',\n",
       "  'context': '在电路学里，电动势（英语：electromotive force，缩写为emf）表征一些电路元件供应电能的特性。这些电路元件称为「电动势源」。电化电池、太阳能电池、燃料电池、热电装置、发电机等等，都是电动势源。电动势源所供应的能量每单位电荷是其电动势。假设，电荷'},\n",
       " {'id': 1,\n",
       "  'title': '楚河州',\n",
       "  'context': '楚河州包括有整个楚河河谷及邻近的山脉与峡谷。河谷的黑土非常肥沃，而且被从楚河引来的河水灌溉着。当地的农业生产计有：小麦、玉蜀黍、甜菜、马铃薯、紫花苜蓿及各种不同品种的蔬菜及水果。在苏联统治期间，省内有不少农产品加工及其他工业，使省内涌现多个新市镇，如：托克马克、坎特（Kant）及卡拉巴尔塔（Kara-Balta）等。相对于国内其他省份，本州的人口成份比较复杂，计有：俄罗斯人、乌克兰人、东干人（中国回民的后裔）、朝鲜人及德国人等。'},\n",
       " {'id': 2,\n",
       "  'title': '凱提文',\n",
       "  'context': '凯提文(Kaithi，कैथी)，也叫做Kayathi或Kayasthi，是历史上的一种文字，曾广泛用于北印度，主要是以前的西北行省和Oudh（今天的北方邦）和比哈尔。它曾用于书写法律、行政和私人记录。Unicode技术委员会已经接受了在Unicode标准中编码凯提文的提案，范围是U+11080-110CF。'},\n",
       " {'id': 3,\n",
       "  'title': '凱提文',\n",
       "  'context': '用凯提文记录的文档可追溯到至少16世纪。这种文字广泛用在莫卧儿帝国期间。在1880年代英属印度期间，这种文字被认可为比哈尔邦法庭上的官方文字。尽管一般而言凯提文曾在某些地区比城文更加广泛使用，它现在已经失去了竞争力。'},\n",
       " {'id': 4,\n",
       "  'title': '爱丽丝梦游仙境',\n",
       "  'context': '第五章：毛毛虫的建议（Advice from a Caterpillar）爱丽丝见到一棵蘑菇，上面坐著一条蓝色的毛虫。他抽著水烟，向爱丽丝探问起来。爱丽丝回应他，自己正在个性转变期之中，时常心绪不宁，她甚至连一首诗都记不起来。毛虫离开之前，告诉了她蘑菇的秘密：吃其中一半会使她变高，吃另一半会使她变矮。于是，她把蘑菇一分为二，果然，吃其中一半使她矮小无比，吃另一半则令她的脖子增长。她的脑袋直达树丛之中，树上的鸽子甚至误以为她长长的脖子是一条毒蛇。经过一番努力，爱丽丝终于恢复原来的身高。她蹒跚地走，偶然进入了一个小庄园。同时，她又利用蘑菇调校最适合的身高。'}]"
      ]
     },
     "execution_count": 2,
     "metadata": {},
     "output_type": "execute_result"
    }
   ],
   "source": [
    "file_path = './data/Context_ZH.json'\n",
    "\n",
    "with open(file_path, 'r') as f:\n",
    "    data_zh = json.load(f)\n",
    "\n",
    "print(f\"Total num: {len(data_zh)}\")\n",
    "data_zh[:5]"
   ]
  },
  {
   "cell_type": "code",
   "execution_count": 3,
   "metadata": {},
   "outputs": [
    {
     "name": "stderr",
     "output_type": "stream",
     "text": [
      "/Users/zhizhang/anaconda3/envs/NLP/lib/python3.11/site-packages/torch/_utils.py:831: UserWarning: TypedStorage is deprecated. It will be removed in the future and UntypedStorage will be the only storage class. This should only matter to you if you are using storages directly.  To access UntypedStorage directly, use tensor.untyped_storage() instead of tensor.storage()\n",
      "  return self.fget.__get__(instance, owner)()\n"
     ]
    }
   ],
   "source": [
    "kw_extractor = Chinese_Extractor()"
   ]
  },
  {
   "cell_type": "code",
   "execution_count": 4,
   "metadata": {},
   "outputs": [
    {
     "data": {
      "text/plain": [
       "['在电路学里，电动势（英语：electromotive force，缩写为emf）表征一些电路元件供应电能的特性。这些电路元件称为「电动势源」。电化电池、太阳能电池、燃料电池、热电装置、发电机等等，都是电动势源。电动势源所供应的能量每单位电荷是其电动势。假设，电荷',\n",
       " '楚河州包括有整个楚河河谷及邻近的山脉与峡谷。河谷的黑土非常肥沃，而且被从楚河引来的河水灌溉着。当地的农业生产计有：小麦、玉蜀黍、甜菜、马铃薯、紫花苜蓿及各种不同品种的蔬菜及水果。在苏联统治期间，省内有不少农产品加工及其他工业，使省内涌现多个新市镇，如：托克马克、坎特（Kant）及卡拉巴尔塔（Kara-Balta）等。相对于国内其他省份，本州的人口成份比较复杂，计有：俄罗斯人、乌克兰人、东干人（中国回民的后裔）、朝鲜人及德国人等。',\n",
       " '凯提文(Kaithi，कैथी)，也叫做Kayathi或Kayasthi，是历史上的一种文字，曾广泛用于北印度，主要是以前的西北行省和Oudh（今天的北方邦）和比哈尔。它曾用于书写法律、行政和私人记录。Unicode技术委员会已经接受了在Unicode标准中编码凯提文的提案，范围是U+11080-110CF。',\n",
       " '用凯提文记录的文档可追溯到至少16世纪。这种文字广泛用在莫卧儿帝国期间。在1880年代英属印度期间，这种文字被认可为比哈尔邦法庭上的官方文字。尽管一般而言凯提文曾在某些地区比城文更加广泛使用，它现在已经失去了竞争力。',\n",
       " '第五章：毛毛虫的建议（Advice from a Caterpillar）爱丽丝见到一棵蘑菇，上面坐著一条蓝色的毛虫。他抽著水烟，向爱丽丝探问起来。爱丽丝回应他，自己正在个性转变期之中，时常心绪不宁，她甚至连一首诗都记不起来。毛虫离开之前，告诉了她蘑菇的秘密：吃其中一半会使她变高，吃另一半会使她变矮。于是，她把蘑菇一分为二，果然，吃其中一半使她矮小无比，吃另一半则令她的脖子增长。她的脑袋直达树丛之中，树上的鸽子甚至误以为她长长的脖子是一条毒蛇。经过一番努力，爱丽丝终于恢复原来的身高。她蹒跚地走，偶然进入了一个小庄园。同时，她又利用蘑菇调校最适合的身高。']"
      ]
     },
     "execution_count": 4,
     "metadata": {},
     "output_type": "execute_result"
    }
   ],
   "source": [
    "contexts = [context['context'] for context in data_zh]\n",
    "contexts[:5]"
   ]
  },
  {
   "cell_type": "code",
   "execution_count": 5,
   "metadata": {},
   "outputs": [
    {
     "name": "stderr",
     "output_type": "stream",
     "text": [
      "Tokenization: 100%|██████████| 1/1 [00:00<00:00, 464.23it/s]\n",
      "Inference: 100%|██████████| 1/1 [00:00<00:00,  2.26it/s]\n",
      "Tokenization: 100%|██████████| 1/1 [00:00<00:00, 3379.78it/s]\n",
      "Inference: 100%|██████████| 1/1 [00:00<00:00,  5.93it/s]\n"
     ]
    },
    {
     "data": {
      "text/plain": [
       "['花漾年华', '法国', '歌曲', '青少年', '拒收']"
      ]
     },
     "execution_count": 5,
     "metadata": {},
     "output_type": "execute_result"
    }
   ],
   "source": [
    "kw_extractor.generate_keywords(contexts[990], top_k=5, rank_methods=\"mmr\")[0]"
   ]
  },
  {
   "cell_type": "markdown",
   "metadata": {},
   "source": [
    "**Define a context manager for temporarily suppressing outputs**"
   ]
  },
  {
   "cell_type": "code",
   "execution_count": 6,
   "metadata": {},
   "outputs": [
    {
     "data": {
      "text/plain": [
       "[{'id': 0,\n",
       "  'title': '電動勢',\n",
       "  'context': '在电路学里，电动势（英语：electromotive force，缩写为emf）表征一些电路元件供应电能的特性。这些电路元件称为「电动势源」。电化电池、太阳能电池、燃料电池、热电装置、发电机等等，都是电动势源。电动势源所供应的能量每单位电荷是其电动势。假设，电荷'},\n",
       " {'id': 1,\n",
       "  'title': '楚河州',\n",
       "  'context': '楚河州包括有整个楚河河谷及邻近的山脉与峡谷。河谷的黑土非常肥沃，而且被从楚河引来的河水灌溉着。当地的农业生产计有：小麦、玉蜀黍、甜菜、马铃薯、紫花苜蓿及各种不同品种的蔬菜及水果。在苏联统治期间，省内有不少农产品加工及其他工业，使省内涌现多个新市镇，如：托克马克、坎特（Kant）及卡拉巴尔塔（Kara-Balta）等。相对于国内其他省份，本州的人口成份比较复杂，计有：俄罗斯人、乌克兰人、东干人（中国回民的后裔）、朝鲜人及德国人等。'},\n",
       " {'id': 2,\n",
       "  'title': '凱提文',\n",
       "  'context': '凯提文(Kaithi，कैथी)，也叫做Kayathi或Kayasthi，是历史上的一种文字，曾广泛用于北印度，主要是以前的西北行省和Oudh（今天的北方邦）和比哈尔。它曾用于书写法律、行政和私人记录。Unicode技术委员会已经接受了在Unicode标准中编码凯提文的提案，范围是U+11080-110CF。'},\n",
       " {'id': 3,\n",
       "  'title': '凱提文',\n",
       "  'context': '用凯提文记录的文档可追溯到至少16世纪。这种文字广泛用在莫卧儿帝国期间。在1880年代英属印度期间，这种文字被认可为比哈尔邦法庭上的官方文字。尽管一般而言凯提文曾在某些地区比城文更加广泛使用，它现在已经失去了竞争力。'},\n",
       " {'id': 4,\n",
       "  'title': '爱丽丝梦游仙境',\n",
       "  'context': '第五章：毛毛虫的建议（Advice from a Caterpillar）爱丽丝见到一棵蘑菇，上面坐著一条蓝色的毛虫。他抽著水烟，向爱丽丝探问起来。爱丽丝回应他，自己正在个性转变期之中，时常心绪不宁，她甚至连一首诗都记不起来。毛虫离开之前，告诉了她蘑菇的秘密：吃其中一半会使她变高，吃另一半会使她变矮。于是，她把蘑菇一分为二，果然，吃其中一半使她矮小无比，吃另一半则令她的脖子增长。她的脑袋直达树丛之中，树上的鸽子甚至误以为她长长的脖子是一条毒蛇。经过一番努力，爱丽丝终于恢复原来的身高。她蹒跚地走，偶然进入了一个小庄园。同时，她又利用蘑菇调校最适合的身高。'}]"
      ]
     },
     "execution_count": 6,
     "metadata": {},
     "output_type": "execute_result"
    }
   ],
   "source": [
    "data_zh[:5]"
   ]
  },
  {
   "cell_type": "code",
   "execution_count": 114,
   "metadata": {},
   "outputs": [
    {
     "data": {
      "application/vnd.jupyter.widget-view+json": {
       "model_id": "b897b56521b84688bc2c249846fdabfd",
       "version_major": 2,
       "version_minor": 0
      },
      "text/plain": [
       "  0%|          | 0/4538 [00:00<?, ?it/s]"
      ]
     },
     "metadata": {},
     "output_type": "display_data"
    }
   ],
   "source": [
    "@contextmanager\n",
    "def suppress_stdout_stderr():\n",
    "    \"\"\"A context manager that redirects stdout and stderr to devnull.\"\"\"\n",
    "    with open(os.devnull, 'w') as fnull:\n",
    "        old_stdout, old_stderr = sys.stdout, sys.stderr\n",
    "        sys.stdout, sys.stderr = fnull, fnull\n",
    "        try:\n",
    "            yield\n",
    "        finally:\n",
    "            sys.stdout, sys.stderr = old_stdout, old_stderr\n",
    "\n",
    "keywords = []\n",
    "for c in tqdm(contexts):\n",
    "    try:\n",
    "        # Try method one to extract keywords\n",
    "        with suppress_stdout_stderr():\n",
    "            extracted_keywords = kw_extractor.generate_keywords(c, top_k=5, rank_methods=\"mmr\")[0]\n",
    "    except ValueError:\n",
    "        # If a ValueError is encountered, use method two to extract the keywords\n",
    "        extracted_keywords = [item[0] for item in jieba.analyse.extract_tags(c, topK=5, withWeight=True)]\n",
    "    keywords.append(extracted_keywords)"
   ]
  },
  {
   "cell_type": "markdown",
   "metadata": {},
   "source": [
    "**Save results**"
   ]
  },
  {
   "cell_type": "code",
   "execution_count": 186,
   "metadata": {},
   "outputs": [
    {
     "data": {
      "text/plain": [
       "(4538, 4538)"
      ]
     },
     "execution_count": 186,
     "metadata": {},
     "output_type": "execute_result"
    }
   ],
   "source": [
    "assert len(contexts) == len(keywords)\n",
    "len(contexts), len(keywords)"
   ]
  },
  {
   "cell_type": "markdown",
   "metadata": {},
   "source": [
    "**Add `title` to `keywords`**"
   ]
  },
  {
   "cell_type": "code",
   "execution_count": 241,
   "metadata": {},
   "outputs": [],
   "source": [
    "strip_key_words = keywords.copy()\n",
    "\n",
    "ids = [item['id'] for item in data_zh]\n",
    "titles = [item['title'] for item in data_zh]\n",
    "# Clean title\n",
    "titles = [re.sub(r'\\W+', '', title) for title in titles]\n",
    "\n",
    "strip_key_words = [([titles[i]] + sublist) for i, sublist in enumerate(strip_key_words)]"
   ]
  },
  {
   "cell_type": "code",
   "execution_count": 242,
   "metadata": {},
   "outputs": [
    {
     "name": "stdout",
     "output_type": "stream",
     "text": [
      "Total num: 4538\n"
     ]
    }
   ],
   "source": [
    "assert len(ids) == len(strip_key_words)\n",
    "\n",
    "print(f\"Total num: {len(strip_key_words)}\")"
   ]
  },
  {
   "cell_type": "markdown",
   "metadata": {},
   "source": [
    "**Drop duplicate title and keywords**"
   ]
  },
  {
   "cell_type": "code",
   "execution_count": 243,
   "metadata": {},
   "outputs": [
    {
     "name": "stdout",
     "output_type": "stream",
     "text": [
      "Total num: 4538\n"
     ]
    }
   ],
   "source": [
    "unique_data = [list(dict.fromkeys(sublist)) for sublist in strip_key_words]\n",
    "\n",
    "assert len(unique_data) == len(strip_key_words)\n",
    "print(f\"Total num: {len(unique_data)}\")"
   ]
  },
  {
   "cell_type": "markdown",
   "metadata": {},
   "source": [
    "**Output `with title` version**"
   ]
  },
  {
   "cell_type": "code",
   "execution_count": 244,
   "metadata": {},
   "outputs": [],
   "source": [
    "documents = [\n",
    "    {   \n",
    "        \"id\": id, \n",
    "        \"keywords\": kw\n",
    "    } \n",
    "    for id, kw in zip(ids, unique_data)\n",
    "]\n",
    "\n",
    "json_data = json.dumps(documents, indent=4)"
   ]
  },
  {
   "cell_type": "code",
   "execution_count": 246,
   "metadata": {},
   "outputs": [],
   "source": [
    "with open('./data/Context_Keywords_with_title_MLQA_zh.json', 'w') as f:\n",
    "    f.write(json_data)"
   ]
  },
  {
   "cell_type": "code",
   "execution_count": 20,
   "metadata": {},
   "outputs": [
    {
     "data": {
      "text/plain": [
       "[{'id': 0, 'keywords': ['電動勢', '电动势源', '元件', '电池', '电路学', '特性']},\n",
       " {'id': 1, 'keywords': ['楚河州', '农产品', '黑土', '灌溉', '苏联']},\n",
       " {'id': 2, 'keywords': ['凱提文', '文字', '北方邦', '印度', '委员会', '提案']},\n",
       " {'id': 3, 'keywords': ['凱提文', '文字', '帝国', '追溯到', '法庭', '使用']},\n",
       " {'id': 4, 'keywords': ['爱丽丝梦游仙境', '毛毛虫', '转变期', '秘密', '章', '蘑菇']}]"
      ]
     },
     "execution_count": 20,
     "metadata": {},
     "output_type": "execute_result"
    }
   ],
   "source": [
    "file_path = './data/MLQA_Keywords/zh/Context_Keywords_with_title_MLQA_zh.json'\n",
    "\n",
    "with open(file_path, 'r') as f:\n",
    "    context_kw = json.load(f)\n",
    "context_kw[:5]"
   ]
  },
  {
   "cell_type": "markdown",
   "metadata": {},
   "source": [
    "**Output `WITHOUT title` version**"
   ]
  },
  {
   "cell_type": "code",
   "execution_count": 22,
   "metadata": {},
   "outputs": [],
   "source": [
    "documents = [\n",
    "    {   \n",
    "        \"id\": id, \n",
    "        \"keywords\": kw\n",
    "    } \n",
    "    for id, kw in zip(ids, keywords)\n",
    "]\n",
    "\n",
    "json_data = json.dumps(documents, indent=4)\n",
    "\n",
    "with open('./data/MLQA_Keywords/zh/Context_Keywords_MLQA_zh.json', 'w') as f:\n",
    "    f.write(json_data)"
   ]
  },
  {
   "cell_type": "code",
   "execution_count": 23,
   "metadata": {},
   "outputs": [
    {
     "data": {
      "text/plain": [
       "[{'id': 0, 'keywords': ['电动势源', '元件', '电池', '电路学', '特性']},\n",
       " {'id': 1, 'keywords': ['农产品', '黑土', '灌溉', '苏联']},\n",
       " {'id': 2, 'keywords': ['文字', '北方邦', '印度', '委员会', '提案']},\n",
       " {'id': 3, 'keywords': ['文字', '帝国', '追溯到', '法庭', '使用']},\n",
       " {'id': 4, 'keywords': ['毛毛虫', '转变期', '秘密', '章', '蘑菇']}]"
      ]
     },
     "execution_count": 23,
     "metadata": {},
     "output_type": "execute_result"
    }
   ],
   "source": [
    "file_path = './data/MLQA_Keywords/zh/Context_Keywords_MLQA_zh.json'\n",
    "\n",
    "with open(file_path, 'r') as f:\n",
    "    context_kw = json.load(f)\n",
    "context_kw[:5]"
   ]
  },
  {
   "cell_type": "markdown",
   "metadata": {},
   "source": [
    "## Keywords for `Query`"
   ]
  },
  {
   "cell_type": "code",
   "execution_count": 7,
   "metadata": {},
   "outputs": [
    {
     "name": "stdout",
     "output_type": "stream",
     "text": [
      "Total num: 5129\n"
     ]
    },
    {
     "data": {
      "text/plain": [
       "[{'question': '各电化电池都能提供电动势？',\n",
       "  'answers': [{'text': '电化电池', 'answer_start': 71}],\n",
       "  'id': '465f3fb044b5c50a78a2e2f9bc94c424d1f7d039',\n",
       "  'context_id': 0,\n",
       "  'title': '電動勢'},\n",
       " {'question': '哪水体有助土地如此多产？',\n",
       "  'answers': [{'text': '楚河', 'answer_start': 36}],\n",
       "  'id': '1aee17dd937cc1043e3ff47c38396541fc3409e5',\n",
       "  'context_id': 1,\n",
       "  'title': '楚河州'}]"
      ]
     },
     "execution_count": 7,
     "metadata": {},
     "output_type": "execute_result"
    }
   ],
   "source": [
    "file_path = './data/QA_ZH.json'\n",
    "\n",
    "with open(file_path, 'r') as f:\n",
    "    data_zh_qa = json.load(f)\n",
    "\n",
    "print(f\"Total num: {len(data_zh_qa)}\")\n",
    "data_zh_qa[:2]"
   ]
  },
  {
   "cell_type": "code",
   "execution_count": 8,
   "metadata": {},
   "outputs": [],
   "source": [
    "questions = [data['question'] for data in data_zh_qa]"
   ]
  },
  {
   "cell_type": "code",
   "execution_count": 9,
   "metadata": {},
   "outputs": [
    {
     "data": {
      "application/vnd.jupyter.widget-view+json": {
       "model_id": "c635566414b14daebb2d0c94f120060f",
       "version_major": 2,
       "version_minor": 0
      },
      "text/plain": [
       "  0%|          | 0/5129 [00:00<?, ?it/s]"
      ]
     },
     "metadata": {},
     "output_type": "display_data"
    },
    {
     "name": "stderr",
     "output_type": "stream",
     "text": [
      "Building prefix dict from the default dictionary ...\n",
      "Loading model from cache /var/folders/fq/njyvd6397pjf4rh3xt5tzbsw0000gn/T/jieba.cache\n",
      "Loading model cost 0.302 seconds.\n",
      "Prefix dict has been built successfully.\n"
     ]
    }
   ],
   "source": [
    "keywords_weight = []\n",
    "\n",
    "for c in tqdm(questions):\n",
    "    extracted_keywords = jieba.analyse.extract_tags(c, topK=5, withWeight=True)\n",
    "    keywords_weight.append(extracted_keywords)"
   ]
  },
  {
   "cell_type": "markdown",
   "metadata": {},
   "source": [
    "**Add title to keywords**"
   ]
  },
  {
   "cell_type": "code",
   "execution_count": 10,
   "metadata": {},
   "outputs": [
    {
     "name": "stdout",
     "output_type": "stream",
     "text": [
      "Total num: 5129\n"
     ]
    }
   ],
   "source": [
    "ids = [item['id'] for item in data_zh_qa]\n",
    "context_ids = [item['context_id'] for item in data_zh_qa]\n",
    "titles = [item['title'] for item in data_zh_qa]\n",
    "# Clean title\n",
    "titles = [re.sub(r'\\W+', '', title) for title in titles]\n",
    "\n",
    "assert len(ids) == len(keywords_weight)\n",
    "\n",
    "keywords_list = [[kw[0] for kw in group] for group in keywords_weight]\n",
    "prob_list = [[float(kw[1]) for kw in group] for group in keywords_weight]\n",
    "\n",
    "updated_keywords_list = []\n",
    "updated_prob_list = []\n",
    "for i, (sublist, prob_sublist) in enumerate(zip(keywords_list, prob_list)):\n",
    "    if not sublist:\n",
    "        new_prob = 3.0\n",
    "    else:\n",
    "        new_prob = prob_sublist[0] + 0.1\n",
    "        \n",
    "        if titles[i] in sublist:\n",
    "            # Find and delete duplicate words and prob\n",
    "            index = sublist.index(titles[i])\n",
    "            del sublist[index]\n",
    "            del prob_sublist[index]\n",
    "\n",
    "    updated_keywords_list.append([titles[i]] + sublist)\n",
    "    updated_prob_list.append([new_prob] + prob_sublist)\n",
    "\n",
    "assert len(updated_prob_list) == len(updated_keywords_list)\n",
    "print(f\"Total num: {len(updated_keywords_list)}\")\n"
   ]
  },
  {
   "cell_type": "markdown",
   "metadata": {},
   "source": [
    "```\n",
    "from:\n",
    "\n",
    "{'id': '56651aa8981b5a8270c94d87eed6e0032d605209',\n",
    "  'context id': 21,\n",
    "  'title': '结核病',\n",
    "  'keywords': ['结核病', '粟粒状', '结核病', '年龄段', '哪个', '最好'],\n",
    "  'prob': [2.49095350058, 2.39095350058, 2.02789550726, 1.986077147684, 1.360791254696, 1.15589888198]},\n",
    "\n",
    "to:\n",
    "\n",
    "{'id': '56651aa8981b5a8270c94d87eed6e0032d605209',\n",
    "  'context id': 21,\n",
    "  'title': '结核病',\n",
    "  'keywords': ['结核病', '粟粒状', '年龄段', '哪个', '最好'],\n",
    "  'prob': [2.49095350058, 2.39095350058, 1.986077147684, 1.360791254696, 1.15589888198]},\n",
    "```"
   ]
  },
  {
   "cell_type": "markdown",
   "metadata": {},
   "source": [
    "**Output `with title` version**"
   ]
  },
  {
   "cell_type": "code",
   "execution_count": 59,
   "metadata": {},
   "outputs": [],
   "source": [
    "documents = [\n",
    "    {   \n",
    "        \"id\": id, \n",
    "        \"context id\": c_id,\n",
    "        \"keywords\": kw,\n",
    "        \"prob\" : p\n",
    "    } \n",
    "    for id, c_id, kw, p in zip(ids, context_ids, updated_keywords_list, updated_prob_list)\n",
    "]\n",
    "\n",
    "json_data = json.dumps(documents, indent=4)"
   ]
  },
  {
   "cell_type": "code",
   "execution_count": 60,
   "metadata": {},
   "outputs": [],
   "source": [
    "with open('./data/MLQA_Keywords/zh/Query_Keywords_with_title_MLQA_zh.json', 'w') as f:\n",
    "    f.write(json_data)"
   ]
  },
  {
   "cell_type": "code",
   "execution_count": 71,
   "metadata": {},
   "outputs": [
    {
     "data": {
      "text/plain": [
       "[{'id': '465f3fb044b5c50a78a2e2f9bc94c424d1f7d039',\n",
       "  'context id': 0,\n",
       "  'keywords': ['電動勢', '电化', '电动势', '电池', '提供'],\n",
       "  'prob': [2.8390596682,\n",
       "   2.7390596682,\n",
       "   2.376557124325,\n",
       "   1.8797154086425,\n",
       "   1.17103910523]},\n",
       " {'id': '1aee17dd937cc1043e3ff47c38396541fc3409e5',\n",
       "  'context id': 1,\n",
       "  'keywords': ['楚河州', '多产', '有助', '水体', '土地', '如此'],\n",
       "  'prob': [2.1579519478600004,\n",
       "   2.0579519478600004,\n",
       "   1.8714765739419998,\n",
       "   1.69960005402,\n",
       "   1.048570666164,\n",
       "   0.9844538674700001]}]"
      ]
     },
     "execution_count": 71,
     "metadata": {},
     "output_type": "execute_result"
    }
   ],
   "source": [
    "file_path = './data/MLQA_Keywords/zh/Query_Keywords_with_title_MLQA_zh.json'\n",
    "\n",
    "with open(file_path, 'r') as f:\n",
    "    query_kw = json.load(f)\n",
    "query_kw[:2]"
   ]
  },
  {
   "cell_type": "markdown",
   "metadata": {},
   "source": [
    "**Output `WITHOUT title` version**"
   ]
  },
  {
   "cell_type": "code",
   "execution_count": 27,
   "metadata": {},
   "outputs": [],
   "source": [
    "documents = [\n",
    "    {   \n",
    "        \"id\": id, \n",
    "        \"context id\": c_id,\n",
    "        \"keywords\": kw,\n",
    "        \"prob\" : p\n",
    "    } \n",
    "    for id, c_id, kw, p in zip(ids, context_ids, keywords_list, prob_list)\n",
    "]\n",
    "\n",
    "json_data = json.dumps(documents, indent=4)"
   ]
  },
  {
   "cell_type": "code",
   "execution_count": 28,
   "metadata": {},
   "outputs": [],
   "source": [
    "with open('./data/MLQA_Keywords/zh/Query_Keywords_MLQA_zh.json', 'w') as f:\n",
    "    f.write(json_data)"
   ]
  },
  {
   "cell_type": "code",
   "execution_count": 29,
   "metadata": {},
   "outputs": [
    {
     "data": {
      "text/plain": [
       "[{'id': '465f3fb044b5c50a78a2e2f9bc94c424d1f7d039',\n",
       "  'context id': 0,\n",
       "  'keywords': ['电化', '电动势', '电池', '提供'],\n",
       "  'prob': [2.7390596682, 2.376557124325, 1.8797154086425, 1.17103910523]},\n",
       " {'id': '1aee17dd937cc1043e3ff47c38396541fc3409e5',\n",
       "  'context id': 1,\n",
       "  'keywords': ['多产', '有助', '水体', '土地', '如此'],\n",
       "  'prob': [2.0579519478600004,\n",
       "   1.8714765739419998,\n",
       "   1.69960005402,\n",
       "   1.048570666164,\n",
       "   0.9844538674700001]}]"
      ]
     },
     "execution_count": 29,
     "metadata": {},
     "output_type": "execute_result"
    }
   ],
   "source": [
    "file_path = './data/MLQA_Keywords/zh/Query_Keywords_MLQA_zh.json'\n",
    "\n",
    "with open(file_path, 'r') as f:\n",
    "    query_kw = json.load(f)\n",
    "query_kw[:2]"
   ]
  }
 ],
 "metadata": {
  "kernelspec": {
   "display_name": "NLP",
   "language": "python",
   "name": "python3"
  },
  "language_info": {
   "codemirror_mode": {
    "name": "ipython",
    "version": 3
   },
   "file_extension": ".py",
   "mimetype": "text/x-python",
   "name": "python",
   "nbconvert_exporter": "python",
   "pygments_lexer": "ipython3",
   "version": "3.11.7"
  }
 },
 "nbformat": 4,
 "nbformat_minor": 2
}
