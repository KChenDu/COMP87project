{
 "cells": [
  {
   "cell_type": "markdown",
   "metadata": {},
   "source": [
    "For now this does nothing."
   ]
  },
  {
   "cell_type": "code",
   "execution_count": 4,
   "metadata": {},
   "outputs": [
    {
     "name": "stdout",
     "output_type": "stream",
     "text": [
      "Current Working Directory:  c:\\文档\\活着\\ucl term 2\\nlp\\COMP87project\\raw_data\n"
     ]
    }
   ],
   "source": [
    "import os\n",
    "\n",
    "# Define the relative path to the target directory\n",
    "relative_path_to_raw_data = \"../../raw_data\"\n",
    "\n",
    "# Change the current working directory to the raw_data directory\n",
    "os.chdir(relative_path_to_raw_data)\n",
    "\n",
    "# Optionally, print the new working directory to confirm the change\n",
    "print(\"Current Working Directory: \", os.getcwd())\n"
   ]
  },
  {
   "cell_type": "code",
   "execution_count": 8,
   "metadata": {},
   "outputs": [
    {
     "name": "stdout",
     "output_type": "stream",
     "text": [
      "Unique 'lang' values: {'te', 'bn', 'ja', 'fi', 'ar', 'ru', 'ko'}\n"
     ]
    }
   ],
   "source": [
    "import json\n",
    "\n",
    "# File path for the JSON Lines file\n",
    "file_path = \"xor/xor_dev_retrieve_eng_span_v1_1.jsonl\"\n",
    "\n",
    "# A set to store unique 'lang' values\n",
    "unique_lang_values = set()\n",
    "\n",
    "# Read each line in the file\n",
    "with open(file_path, 'r', encoding='utf-8') as file:\n",
    "    for line in file:\n",
    "        # Parse the line as a JSON object\n",
    "        json_object = json.loads(line)\n",
    "\n",
    "        # Extract the value of 'lang' if it exists and add to the set\n",
    "        if 'lang' in json_object:\n",
    "            lang_value = json_object['lang']\n",
    "            unique_lang_values.add(lang_value)\n",
    "\n",
    "# Print the unique 'lang' values\n",
    "print(\"Unique 'lang' values:\", unique_lang_values)\n"
   ]
  }
 ],
 "metadata": {
  "kernelspec": {
   "display_name": "base",
   "language": "python",
   "name": "python3"
  },
  "language_info": {
   "codemirror_mode": {
    "name": "ipython",
    "version": 3
   },
   "file_extension": ".py",
   "mimetype": "text/x-python",
   "name": "python",
   "nbconvert_exporter": "python",
   "pygments_lexer": "ipython3",
   "version": "3.11.5"
  }
 },
 "nbformat": 4,
 "nbformat_minor": 2
}
